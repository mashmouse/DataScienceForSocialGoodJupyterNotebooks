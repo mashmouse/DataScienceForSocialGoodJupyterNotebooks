{
 "metadata": {
  "name": "",
  "signature": "sha256:eabee214a5b0dd3c31a1a9e7cc940d7add482d45dba47d023e44d49e8dd1a118"
 },
 "nbformat": 3,
 "nbformat_minor": 0,
 "worksheets": [
  {
   "cells": [
    {
     "cell_type": "markdown",
     "metadata": {},
     "source": [
      "#Functions\n",
      "Define a function __double_even__ that takes in a number __num__ and doubles __num__ if __num__ is even. If __num__ is not even, the function does nothing."
     ]
    },
    {
     "cell_type": "code",
     "collapsed": false,
     "input": [
      "def double_even (num):\n",
      "    if num % 2 == 0:\n",
      "        return num * 2\n"
     ],
     "language": "python",
     "metadata": {},
     "outputs": [],
     "prompt_number": 2
    },
    {
     "cell_type": "markdown",
     "metadata": {},
     "source": [
      "###Fun Greetings\n",
      "Define a function **greetings** that takes a military time (ex: 600, 1830) as input and greets the user according to the time of the day.\n",
      "\n",
      "\n",
      "**Function planning:**\n",
      "\n",
      "_Name of the function:_ \n",
      "\n",
      "_Possible inputs and their names:_ \n",
      "\n",
      "_Possible outputs of the function:_\n",
      "\n",
      "_Instructions the function is to execute:_"
     ]
    },
    {
     "cell_type": "code",
     "collapsed": false,
     "input": [],
     "language": "python",
     "metadata": {},
     "outputs": []
    },
    {
     "cell_type": "markdown",
     "metadata": {},
     "source": [
      "###Extension\n",
      "Define a function that takes in a list **lst** and a number **num**. The function should multiply each element of **lst** by **num**."
     ]
    },
    {
     "cell_type": "code",
     "collapsed": false,
     "input": [],
     "language": "python",
     "metadata": {},
     "outputs": []
    }
   ],
   "metadata": {}
  }
 ]
}