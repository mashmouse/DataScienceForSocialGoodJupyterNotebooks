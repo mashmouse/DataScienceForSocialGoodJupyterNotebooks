{
 "metadata": {
  "name": "",
  "signature": "sha256:f0a3aa531579fa87813b2087f90d1726021b1170c1cbec2675b37ab6ce62713e"
 },
 "nbformat": 3,
 "nbformat_minor": 0,
 "worksheets": [
  {
   "cells": [
    {
     "cell_type": "markdown",
     "metadata": {},
     "source": [
      "#Case Study B: Weather Changes Impact Us (Part 1)\n",
      "Applying concepts from the [Presentation](https://docs.google.com/presentation/d/13BJzBOscWzpF2Gsv3lw5OE72xuumlZ8crFWQFPSMi1g/edit?usp=sharing)."
     ]
    },
    {
     "cell_type": "markdown",
     "metadata": {},
     "source": [
      "###Jupyter tips:\n",
      "Command Mode (press Esc or click whitespace to enable)\n",
      "\n",
      "+ Enter : edit mode\n",
      "+ Shift-Enter : run cell, select below\n",
      "+ Ctrl-Enter : run cell\n",
      "+ Alt-Enter : run cell, insert below\n",
      "\n",
      "**For more keyboard shortcuts click 'Help'->'Keyboard Shortcuts' from the toolbar**\n"
     ]
    },
    {
     "cell_type": "markdown",
     "metadata": {},
     "source": [
      "## Warmp-up: Write some Markdown\n",
      "Give one qucik example of each of the items on the [Markdown Cheat Sheet](https://docs.google.com/drawings/d/1hwL0tBDFBWJBF3Sf3jIf0gMtqzGPAAhbZMbuXHA0R1s/edit?usp=sharing) in the cell below."
     ]
    },
    {
     "cell_type": "markdown",
     "metadata": {},
     "source": [
      "##### List Example:\n",
      "\n",
      "##### Header Example:\n",
      "\n",
      "##### Text Emphasis Example:\n",
      "\n",
      "##### Table Example:\n",
      "\n",
      "##### Link Example:"
     ]
    },
    {
     "cell_type": "markdown",
     "metadata": {},
     "source": [
      "##Warmup: Create a DataFrame from scratch using Numpy arrays\n",
      "Use the data below to make a DataFrame and then analyze that data.\n",
      "\n",
      "###Setup:\n",
      "This data was gathered as a part of registration for the Data Science for Social Good summer camp."
     ]
    },
    {
     "cell_type": "code",
     "collapsed": false,
     "input": [
      "#complete the following import statement, what was the library we needed???\n",
      "import ______ as ___\n",
      "\n",
      "column_names = ['Ames', 'Brooklyn', 'Germany','Grinnell', 'Marshalltown', 'Montezuma', 'Newton', 'Toledo', 'Waukee','Unspecified']\n",
      "index_names = ['Total', 'Boys', 'Girls', 'Unspecified']\n",
      "camp_data = [[1, 4, 1, 18, 5, 3, 2, 1, 1, 2], \n",
      "[1, 1, 0, 10, 3, 3, 2, 1, 0, 0],\n",
      "[0, 3, 0, 5, 2, 0, 0, 0, 1, 0],\n",
      "[0, 0, 1, 3, 0, 0, 0, 0, 0, 2]]\n",
      "\n",
      "#Create a DataFrame and set columns column_names and index (the rows) to index_names.\n",
      "df = ________\n",
      "df.columns = ______\n",
      "df.index = ______\n",
      "\n",
      "#Print/output the Data Frame."
     ],
     "language": "python",
     "metadata": {},
     "outputs": []
    },
    {
     "cell_type": "markdown",
     "metadata": {},
     "source": [
      "###Questions:\n",
      "Write a sentence or two to answer the following questions.\n",
      "\n",
      "**What reasons might cause there to be unspecified data?**\n",
      "ANSWER_HERE\n",
      "\n",
      "**What other data might be useful for analysis?**\n",
      "ANSWER_HERE\n",
      "\n",
      "**What do you first notice about the data from the table?**\n",
      "ANSWER_HERE"
     ]
    },
    {
     "cell_type": "markdown",
     "metadata": {},
     "source": [
      "###Computations:\n",
      "Code the following computations with MMMMM(Maximum, Minimum, Mean, Median, and Mode). While it might not seem like you need to use the code to perform some of these tasks now, realize that we will be working with larger datasets and do it anyway."
     ]
    },
    {
     "cell_type": "code",
     "collapsed": false,
     "input": [
      "#Print out the largest number of students attending the camp. Are you assuming the answer\n",
      "\n",
      "#Print out the median of the students attending camp from Grinnell.\n",
      "\n",
      "#Print out the mean of the students attending camp from Grinnell.\n",
      "\n",
      "#Talk with your partner: Are there differences between the mean and median? What could they be communicating about the data?\n",
      "\n",
      "#Print out the mode of the number of girls in the camp.\n",
      "\n",
      "#Talk with your partner: What is the significance of the mode calculated above?\n",
      "\n",
      "#Print out the mean of the number of girls in the camp.\n",
      "\n",
      "#Print out the mean of the number of boys in the camp.\n",
      "\n",
      "#Talk with your partner: What data might the camp want to advertise and why? \n",
      "#Note: It could be something we calculated above or something that we didn't ask you to calculate here"
     ],
     "language": "python",
     "metadata": {},
     "outputs": [],
     "prompt_number": 29
    },
    {
     "cell_type": "markdown",
     "metadata": {},
     "source": [
      "### Questions/Notes: \n",
      "Write 3 sentences about the most interesting parts of your discussions.\n"
     ]
    },
    {
     "cell_type": "markdown",
     "metadata": {},
     "source": [
      "## Case Study Focus: Powesheik Weather Data\n",
      "Analyze the data from the given file using a DataFrame."
     ]
    }
   ],
   "metadata": {}
  }
 ]
}