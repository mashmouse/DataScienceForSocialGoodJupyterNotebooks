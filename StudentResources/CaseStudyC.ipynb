{
 "metadata": {
  "name": "",
  "signature": "sha256:4f925dfbffa562fbd6760b34cec1e7273d0fdb2288d8bdea33ba0b1322777f03"
 },
 "nbformat": 3,
 "nbformat_minor": 0,
 "worksheets": [
  {
   "cells": [
    {
     "cell_type": "markdown",
     "metadata": {},
     "source": [
      "#Case Study C: #TwitterFilter\n",
      "Applying concepts from the [Case Study Presentation](https://docs.google.com/presentation/d/1C8AFm7M1ECvhhGgb_4wVK7Ku6__Sb_zvI0G7G0DexNc/edit#slide=id.g23eeffcc77_0_173) and the [Functions Presentations](https://docs.google.com/presentation/d/1Oul4QBz2LBDl_A8Q-RIt-36qY4CzOw4As2cqg1fuHYc/edit#slide=id.p)\n",
      "###Setting up\n",
      "Import the necessary packages to open the csv file. Open and read the data."
     ]
    },
    {
     "cell_type": "code",
     "collapsed": false,
     "input": [
      "\n",
      "filename = \"/home/phamanht/map2017/AllTweets.csv\"\n",
      "\n",
      "\n",
      "\n",
      "\n",
      "\n",
      "\n",
      "\n"
     ],
     "language": "python",
     "metadata": {},
     "outputs": []
    },
    {
     "cell_type": "markdown",
     "metadata": {},
     "source": [
      "###Daily Tweets: How many tweets are sent in a given day?\n",
      "\n",
      "Define a function that takes a date as input and returns the count of the number of tweets in that day\n",
      "\n",
      "_Hint: is_anagram determines if two strings contain the same characters and returns a boolean accordingly. (ex: is_anagram(\"4 Jul\", \"Jul 4\") would return true)_"
     ]
    },
    {
     "cell_type": "code",
     "collapsed": false,
     "input": [
      "from collections import Counter\n",
      "\n",
      "def is_anagram(str1, str2):\n",
      "     return Counter(str1) == Counter(str2)\n",
      "    \n",
      "    \n",
      "    \n",
      "\n",
      "    \n",
      "    "
     ],
     "language": "python",
     "metadata": {},
     "outputs": []
    },
    {
     "cell_type": "markdown",
     "metadata": {},
     "source": [
      "### #NoHashtags: What are all of the tweets that contain a given phrase?\n",
      "\n",
      "Define a function that takes in a string **phrase** as an input and returns a list of all of the tweets that contains **phrase**. "
     ]
    },
    {
     "cell_type": "code",
     "collapsed": false,
     "input": [
      "\n",
      "\n",
      "\n",
      "\n",
      "\n",
      "\n",
      "\n",
      "\n",
      "\n"
     ],
     "language": "python",
     "metadata": {},
     "outputs": []
    },
    {
     "cell_type": "markdown",
     "metadata": {},
     "source": [
      "###Q&A: What would you like to know about the data? \n",
      "\n",
      "Write your own question and function that would answer the question.\n",
      "\n",
      "**Question:** \n",
      "        \n",
      " \n",
      "\n",
      "**Function planning:**\n",
      "\n",
      "_Name of the function:_ \n",
      "\n",
      "_Possible inputs and their names:_ \n",
      "\n",
      "_Possible outputs of the function:_\n",
      "\n",
      "_Instructions the function is to execute:_\n"
     ]
    },
    {
     "cell_type": "code",
     "collapsed": false,
     "input": [
      "\n",
      "\n",
      "\n",
      "\n",
      "\n",
      "\n",
      "\n",
      "\n",
      "\n",
      "\n"
     ],
     "language": "python",
     "metadata": {},
     "outputs": []
    },
    {
     "cell_type": "markdown",
     "metadata": {},
     "source": [
      "###Extension: How often is someone tweeting this?\n",
      "Write a function that takes in 2 strings as inputs. The first string **username** is a twitter username under the link column in the dataset. The second string **phrase** is a word or phrase possibly mentioned in the user's tweet. The function should count how many times **username** tweets the **phrase**. \n",
      "\n",
      "**Challenge: What's the context?** \n",
      "Print all of the tweets that contains **phrase** as tweeted by **username** "
     ]
    },
    {
     "cell_type": "code",
     "collapsed": false,
     "input": [
      "\n",
      "\n",
      "\n",
      "\n",
      "\n",
      "\n",
      "\n",
      "\n",
      "\n",
      "\n"
     ],
     "language": "python",
     "metadata": {},
     "outputs": [],
     "prompt_number": 0
    },
    {
     "cell_type": "markdown",
     "metadata": {},
     "source": [
      "###Extension: Visualize your data!\n",
      "\n",
      "Think of ways you can visualize the information that you discovered! Reference Case Study B if you need a refresher on data visualization."
     ]
    },
    {
     "cell_type": "code",
     "collapsed": false,
     "input": [
      "\n",
      "\n",
      "\n",
      "\n",
      "\n",
      "\n",
      "\n",
      "\n",
      "\n",
      "\n"
     ],
     "language": "python",
     "metadata": {},
     "outputs": [],
     "prompt_number": 0
    }
   ],
   "metadata": {}
  }
 ]
}