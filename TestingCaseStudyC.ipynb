{
 "metadata": {
  "name": "",
  "signature": "sha256:4a7cbe29f725d2695d6e127c937aed845a765add73c5b6f07d43a4bd13e3c44d"
 },
 "nbformat": 3,
 "nbformat_minor": 0,
 "worksheets": [
  {
   "cells": [
    {
     "cell_type": "markdown",
     "metadata": {},
     "source": [
      "##First Question\n",
      "Write a function that takes a date as input and returns the count of the number of tweets in that day"
     ]
    },
    {
     "cell_type": "code",
     "collapsed": false,
     "input": [
      "import pandas as pd\n",
      "import matplotlib.pyplot as plt\n",
      "from collections import Counter\n",
      "%matplotlib inline \n",
      "\n",
      "filename = \"/home/phamanht/map2017/AllTweets.csv\"\n",
      "\n",
      "\n",
      "data = pd.read_csv(filename)\n",
      "df = pd.DataFrame(data)\n",
      "\n",
      "\n",
      "def is_anagram(str1, str2):\n",
      "     return Counter(str1) == Counter(str2)\n",
      "\n",
      "def common_date(day):\n",
      "    dates = df.loc[:,'date']\n",
      "    count = 0\n",
      "    for line in dates:\n",
      "        if is_anagram(line, day):\n",
      "#        if line == day:\n",
      "            count = count + 1\n",
      "    return count\n",
      "    \n",
      "  \n",
      "print(common_date('4 Jul'))    \n",
      "#data.describe()\n"
     ],
     "language": "python",
     "metadata": {},
     "outputs": [
      {
       "output_type": "stream",
       "stream": "stdout",
       "text": [
        "88\n"
       ]
      }
     ],
     "prompt_number": 9
    },
    {
     "cell_type": "markdown",
     "metadata": {},
     "source": [
      "##Second Question\n",
      "Write a function that takes in a string **phrase** as an input and returns a list of all of the tweets that contains **phrase**. "
     ]
    },
    {
     "cell_type": "code",
     "collapsed": false,
     "input": [
      "import pandas as pd\n",
      "from collections import Counter\n",
      "import matplotlib.pyplot as plt\n",
      "%matplotlib inline \n",
      "\n",
      "filename = \"/home/phamanht/map2017/AllTweets.csv\"\n",
      "\n",
      "\n",
      "data = pd.read_csv(filename)\n",
      "df = pd.DataFrame(data)\n",
      "\n",
      "def get_tweets(phrase):\n",
      "    all_tweets = df.loc[:, 'text']\n",
      "    phrase = phrase.lower()\n",
      "    tweet_collection = []\n",
      "    for line in all_tweets:\n",
      "        if phrase in line:\n",
      "            tweet_collection.append(line)\n",
      "    return tweet_collection\n",
      "print(\"\\n\\n\".join(get_tweets(\"oompaloompa\")))"
     ],
     "language": "python",
     "metadata": {},
     "outputs": [
      {
       "output_type": "stream",
       "stream": "stdout",
       "text": [
        "\n"
       ]
      }
     ],
     "prompt_number": 11
    },
    {
     "cell_type": "markdown",
     "metadata": {},
     "source": [
      "##Extension\n",
      "Write a function that takes in 2 strings as inputs. The first string **username** is a twitter username under the link column in the dataset. The second string **word** is a word or phrase possibly mentioned in the user's tweet. The function should count how many times **username** tweets the **word**. \n",
      "\n",
      "**Challenge:** Print all of the tweets that contains **word** as tweeted by **username** "
     ]
    },
    {
     "cell_type": "code",
     "collapsed": false,
     "input": [
      "import pandas as pd\n",
      "from collections import Counter\n",
      "import matplotlib.pyplot as plt\n",
      "%matplotlib inline \n",
      "\n",
      "filename = \"/home/phamanht/map2017/AllTweets.csv\"\n",
      "\n",
      "\n",
      "data = pd.read_csv(filename)\n",
      "df = pd.DataFrame(data)\n",
      "\n",
      "#df[df['text']].index.tolist()\n",
      "\n",
      "def tweet_tags(username, tweet):\n",
      "    tweets = df.loc[:, 'text']\n",
      "    users = df.loc[:, 'link']\n",
      "    count = 0\n",
      "    index = 0\n",
      "    collection_of_tweets = []\n",
      "    tweet = tweet.lower()\n",
      "    username = username.lower()\n",
      "#    users.filter(username)\n",
      "#    df[users].index.tolist()\n",
      "    for line in users:\n",
      "        if username in line:\n",
      "            if tweet in tweets[index]:\n",
      "                collection_of_tweets.append(tweets[index] + \"\\n\")\n",
      "                count = count + 1\n",
      "        index = index + 1\n",
      "    print(\"\\n\".join(collection))\n",
      "    return count\n",
      "\n",
      "#print(Counter(df.loc[:,'text']))\n",
      "print(tweet_tags('realDonaldTrump', 'environment'))"
     ],
     "language": "python",
     "metadata": {},
     "outputs": [
      {
       "output_type": "stream",
       "stream": "stdout",
       "text": [
        "So sad that Obama rejected Keystone Pipeline. Thousands of jobs, good for the environment, no downside!\n",
        "\n",
        "If I am elected President I will immediately approve the Keystone XL pipeline.  No impact on environment & lots of jobs for U.S.\n",
        "\n",
        "\u201cDonald Trump turns over 11.5 ac.in Rancho Palos Verdes for recreational open space\u201d http://www.dailybreeze.com/environment-and-nature/20150115/donald-trump-turns-over-115-acres-in-rancho-palos-verdes-for-recreational-open-space\u00a0\u2026 @DailyBreezeNews by @meg_barnes\n",
        "\n",
        "Environmental regulations stop Border Patrol from protecting 40% of the border http://www.newsmax.com/Newsfront/immigration-Border-Patrol-environmental-regulations/2014/07/28/id/585283/#ixzz38mkekMMd\u00a0\u2026 A coup for the migrant Democrats.\n",
        "\n",
        "\"Be a yardstick of quality. Some people aren't used to an environment where excellence is expected.\" -- Steve Jobs\n",
        "\n",
        "\"@DouglasSeacat1: Where are all the liberal environmentalists demanding the end of wind turbines to stop the slaughter of birds?\" So true!\n",
        "\n",
        "\"@odonnelltw: @realDonaldTrump Pinehurst #2 is what happens when environmentalists take over the USGA!\"\n",
        "\n",
        "Be a yardstick of quality. Some people aren't used to an environment where excellence is expected.\n",
        " -- Steve Jobs\n",
        "\n",
        "\"@janecat60: Offensive to @JoeHo & @realDonaldTrump ~ Windfarms ~ http://www.theguardian.com/environment/gallery/2014/may/02/the-beauty-of-windfarms-in-pictures?CMP=twt_gu\u00a0\u2026 Via @KathViner pic.twitter.com/323akn6cK6\" @AlexSalmond\n",
        "\n",
        "Everyone should watch the documentary \u2018Windfall\u2019 on @netflix. See an upstate NY town ruined by environmentalists & windfarms.\n",
        "\n",
        "\"@kyleraccio: Windfarms are destroying the environment and bird wildlife. May not be politically correct, but it's the truth.\n",
        "\n",
        "\u201cThere are no environments where you're only going to win, because life just isn't like that.\u201d -  Bobby Orr\n",
        "\n",
        "Isn\u2019t it ironic that a lot of the wealthy environmentalists use private jets and fight wind farms being placed near their property?\n",
        "\n",
        "In three years people won\u2019t be building wind turbines anymore - they are obsolete & totally destroy the environment in which they sit.\n",
        "\n",
        "Major article in New York Times today discusses the cost of environmental damage in China and how it is RAPIDLY GROWNG! Rest of World pays.\n",
        "\n",
        "China is the biggest environmental polluter in the World, by far. They do nothing to clean up their factories and laugh at our stupidity!\n",
        "\n",
        "\"Be a yardstick of quality. Some people aren't used to an environment where excellence is expected.\" - Steve Jobs\n",
        "\n",
        "Remember, new \"environment friendly\"  lightbulbs can cause cancer. Be careful-- the idiots who came up with this stuff don't care.\n",
        "\n",
        "\"Be  yardstick of quality. Some people aren't used to an environment where excellence is expected.\" -- Steve Jobs\n",
        "\n",
        "It's Friday. How many bald eagles did wind turbines kill today? They are an environmental & aesthetic disaster.\n",
        "\n",
        "The @BarackObama administration is pressuring contractors to fix job loss estimates from environmental regulations http://bit.ly/Jz5T\u00a0\n",
        "\n",
        "Remember, new \"environment friendly\"  lightbulbs can cause cancer. Be careful-- the idiots who came up with this stuff don't care.\n",
        "\n",
        "\"Be  yardstick of quality. Some people aren't used to an environment where excellence is expected.\" -- Steve Jobs\n",
        "\n",
        "It's Friday. How many bald eagles did wind turbines kill today? They are an environmental & aesthetic disaster.\n",
        "\n",
        "The @BarackObama administration is pressuring contractors to fix job loss estimates from environmental regulations http://bit.ly/Jz5T\u00a0\n",
        "\n",
        "25\n"
       ]
      }
     ],
     "prompt_number": 78
    },
    {
     "cell_type": "code",
     "collapsed": false,
     "input": [
      "%matplotlib inline\n",
      "import pandas as pd\n",
      "import matplotlib.pyplot as plt\n",
      "\n",
      "countries = ['France','Spain','Sweden','Germany','Finland','Poland','Italy',\n",
      "             'United Kingdom','Romania','Greece','Bulgaria','Hungary',\n",
      "             'Portugal','Austria','Czech Republic','Ireland','Lithuania','Latvia',\n",
      "             'Croatia','Slovakia','Estonia','Denmark','Netherlands','Belgium']\n",
      "extensions = [547030,504782,450295,357022,338145,312685,301340,243610,238391,\n",
      "              131940,110879,93028,92090,83871,78867,70273,65300,64589,56594,\n",
      "              49035,45228,43094,41543,30528]\n",
      "populations = [63.8,47,9.55,81.8,5.42,38.3,61.1,63.2,21.3,11.4,7.35,\n",
      "               9.93,10.7,8.44,10.6,4.63,3.28,2.23,4.38,5.49,1.34,5.61,\n",
      "               16.8,10.8]\n",
      "life_expectancies = [81.8,82.1,81.8,80.7,80.5,76.4,82.4,80.5,73.8,80.8,73.5,\n",
      "                    74.6,79.9,81.1,77.7,80.7,72.1,72.2,77,75.4,74.4,79.4,81,80.5]\n",
      "data = {'a' : pd.Series(extensions, index=countries), \n",
      "        'b' : pd.Series(populations, index=countries),\n",
      "        'c' : pd.Series(life_expectancies, index=countries)}\n",
      " \n",
      "df = pd.DataFrame(data)\n",
      "\n",
      "df.loc[:, 'a'].index('Sweden')"
     ],
     "language": "python",
     "metadata": {},
     "outputs": [
      {
       "ename": "TypeError",
       "evalue": "'Index' object is not callable",
       "output_type": "pyerr",
       "traceback": [
        "\u001b[0;31m---------------------------------------------------------------------------\u001b[0m\n\u001b[0;31mTypeError\u001b[0m                                 Traceback (most recent call last)",
        "\u001b[0;32m<ipython-input-67-1ae25eb31328>\u001b[0m in \u001b[0;36m<module>\u001b[0;34m()\u001b[0m\n\u001b[1;32m     21\u001b[0m \u001b[0mdf\u001b[0m \u001b[0;34m=\u001b[0m \u001b[0mpd\u001b[0m\u001b[0;34m.\u001b[0m\u001b[0mDataFrame\u001b[0m\u001b[0;34m(\u001b[0m\u001b[0mdata\u001b[0m\u001b[0;34m)\u001b[0m\u001b[0;34m\u001b[0m\u001b[0m\n\u001b[1;32m     22\u001b[0m \u001b[0;34m\u001b[0m\u001b[0m\n\u001b[0;32m---> 23\u001b[0;31m \u001b[0mdf\u001b[0m\u001b[0;34m.\u001b[0m\u001b[0mloc\u001b[0m\u001b[0;34m[\u001b[0m\u001b[0;34m:\u001b[0m\u001b[0;34m,\u001b[0m \u001b[0;34m'a'\u001b[0m\u001b[0;34m]\u001b[0m\u001b[0;34m.\u001b[0m\u001b[0mindex\u001b[0m\u001b[0;34m(\u001b[0m\u001b[0;34m'Sweden'\u001b[0m\u001b[0;34m)\u001b[0m\u001b[0;34m\u001b[0m\u001b[0m\n\u001b[0m",
        "\u001b[0;31mTypeError\u001b[0m: 'Index' object is not callable"
       ]
      }
     ],
     "prompt_number": 67
    },
    {
     "cell_type": "code",
     "collapsed": false,
     "input": [],
     "language": "python",
     "metadata": {},
     "outputs": [],
     "prompt_number": 63
    },
    {
     "cell_type": "code",
     "collapsed": false,
     "input": [],
     "language": "python",
     "metadata": {},
     "outputs": []
    }
   ],
   "metadata": {}
  }
 ]
}