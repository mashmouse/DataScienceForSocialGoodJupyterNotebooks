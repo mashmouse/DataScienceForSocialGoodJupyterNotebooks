{
 "cells": [
  {
   "cell_type": "markdown",
   "metadata": {},
   "source": [
    "# The States of Driving: Where NOT to Drive\n",
    "\n",
    "Lets find out which states you are most likely to have a fatal car crash in. \n",
    "\n",
    "\n",
    "**IMPORTANT** As you read through the work sheet make sure to press Ctrl+Enter to run each piece of code. If you don't you will get an error. "
   ]
  },
  {
   "cell_type": "code",
   "execution_count": 5,
   "metadata": {
    "collapsed": true
   },
   "outputs": [],
   "source": [
    "#This is a comment\n",
    "#Below are some imports.\n",
    "\n",
    "%matplotlib inline\n",
    "import pandas as pd\n",
    "import numpy as np\n",
    "import statistics as st\n",
    "import matplotlib\n",
    "\n",
    "matplotlib.style.use('ggplot')"
   ]
  },
  {
   "cell_type": "markdown",
   "metadata": {},
   "source": [
    "## Here is your data in list form. \n",
    "\n",
    "States are listed as strings in their abreviation. Corresponding state popluations are listed as integers.\n",
    "The number of deaths in each state for crashes are listed in integers. The estimated number of millions of miles traveled in each state is listed as an integer. "
   ]
  },
  {
   "cell_type": "code",
   "execution_count": 6,
   "metadata": {},
   "outputs": [],
   "source": [
    "states = ['AL', 'AK', 'AZ', 'AR', 'CA', 'CO', 'CT', 'DE', 'FL', 'GA', 'HI', 'ID',\n",
    " 'IL', 'IN', 'IA', 'KS', 'KY', 'LA', 'ME', 'MD', 'MA', 'MI', 'MN', 'MS',\n",
    " 'MO', 'MT', 'NE', 'NV', 'NH', 'NJ', 'NM', 'NY', 'NC', 'ND', 'OH', 'OK',\n",
    " 'OR', 'PA', 'RI', 'SC', 'SD', 'TN', 'TX', 'UT', 'VT', 'VA', 'WA', 'WV',\n",
    " 'WI', 'WY']\n",
    "\n",
    "pop2015 = [4858979, 738432, 6828065, 2978204, 39144818, 5456574, 3590886, 945934,\n",
    "           20271272, 10214860, 1431603, 1654930, 12859995, 6619680, 3123899,\n",
    "           2911641, 4425092, 4670724, 1329328, 6006401, 6794422, 9922576, 5489594, \n",
    "           2992333, 6083672, 1032949, 1896190, 2890845, 1330608, 8958013, 2085109,\n",
    "           19795791, 10042802, 756928, 11613423, 3911338, 4028977, 12802503, 1056298,\n",
    "           4896146, 858469, 6600299, 27469114, 2995919, 626042, 8382993, 7170351,\n",
    "           1844128, 5771337, 586107]\n",
    "\n",
    "\n",
    "crashDeaths2015 = [849, 65, 893, 531, 3176, 546, 266, 126, 2939, 1430, 94, 216, 998,\n",
    "                   821, 320, 355, 761, 726, 156, 513, 306, 963, 411, 677, 869, 224, 246,\n",
    "                   325, 114, 562, 298, 1121, 1379, 131, 1110, 643, 447, 1200, 45, 977, 133, \n",
    "                   958, 3516, 276, 57, 753, 568, 268, 566, 145]\n",
    "\n",
    "milMilesTraveled = [67257, 5045, 65045, 34897, 335539, 50437, 31592, 9931, 206982,\n",
    "                    118107, 10301, 16662, 105223, 78819, 33161, 31379, 48675,\n",
    "                    48180, 14629, 57516, 59257, 97843, 57395, 39890, 71918, 12345, 20101,\n",
    "                    25925, 13094, 75393, 27435, 127230, 111879, 10036, 113673, 47713,\n",
    "                    35999, 100945, 7833, 51726, 9324, 76670, 258122, 29604, 7314, 82625,\n",
    "                    59653, 19827, 62073, 9597]\n",
    "\n",
    "crashDeathsPerCapita = np.divide(crashDeaths2015, pop2015)\n",
    "\n",
    "milesPerCapita = np.divide(milMilesTraveled, pop2015)"
   ]
  },
  {
   "cell_type": "markdown",
   "metadata": {},
   "source": [
    "## Here is your data put into a DataFrame. "
   ]
  },
  {
   "cell_type": "code",
   "execution_count": 23,
   "metadata": {
    "collapsed": true
   },
   "outputs": [],
   "source": [
    "data = {'states': pd.Series(states),\n",
    "        'pop' : pd.Series(pop2015),\n",
    "        'deaths' : pd.Series(crashDeaths2015),\n",
    "        'deathsPerCapita': pd.Series(crashDeathsPerCapita),\n",
    "        'miles' : pd.Series(milMilesTraveled),\n",
    "        'milesPerCapita': pd.Series(milesPerCapita)}\n",
    "\n",
    "df = pd.DataFrame(data)"
   ]
  },
  {
   "cell_type": "markdown",
   "metadata": {},
   "source": [
    "# BAR GRAPHS\n",
    "## Can you write code to make a bar graph of the number of deaths in each state?\n",
    "\n",
    "Refer to your cheat sheet for syntax if you have forgotten it!"
   ]
  },
  {
   "cell_type": "code",
   "execution_count": null,
   "metadata": {},
   "outputs": [],
   "source": []
  },
  {
   "cell_type": "markdown",
   "metadata": {},
   "source": [
    "## Can you write code to make one BAR GRAPH that displays the number of deaths, deaths per capita, and the population in each state?"
   ]
  },
  {
   "cell_type": "code",
   "execution_count": null,
   "metadata": {},
   "outputs": [],
   "source": []
  },
  {
   "cell_type": "markdown",
   "metadata": {},
   "source": [
    "## Take your previous code and add \", subplots=True\" inside the parenthesis (without the quotes surrounding it). Are the graphs that this code produces better?"
   ]
  },
  {
   "cell_type": "code",
   "execution_count": 2,
   "metadata": {},
   "outputs": [],
   "source": [
    "#Copy your code from the previous exercise below:"
   ]
  },
  {
   "cell_type": "markdown",
   "metadata": {},
   "source": [
    "# SCATTER PLOTS\n",
    "\n",
    "## Can you make a scatter plot comparing millions of miles traveled in each state to the number of deaths from crashes?\n",
    "Refer to your cheat sheet for syntax if you have forgotten it!"
   ]
  },
  {
   "cell_type": "code",
   "execution_count": null,
   "metadata": {},
   "outputs": [],
   "source": []
  },
  {
   "cell_type": "markdown",
   "metadata": {},
   "source": [
    "## Take your previous code and paste it into the space below. Inside the parenthesis of your code, add \", s=scaledpop2015\" (without the quotes surrounding it). What happened? Can you guess what \"s=\" stands for?"
   ]
  },
  {
   "cell_type": "code",
   "execution_count": 7,
   "metadata": {},
   "outputs": [],
   "source": [
    "#Don't mess with this. No Really. Don't. \n",
    "scaledpop2015 = list(map((lambda x: x / 100000), pop2015))\n",
    "\n",
    "#Paste your code below this comment:"
   ]
  },
  {
   "cell_type": "markdown",
   "metadata": {},
   "source": [
    "## Take your previous code and replace 'deaths' with 'deathsPerCapita'. Replace 'miles' with 'milesPerCapita'. What do you learn?"
   ]
  },
  {
   "cell_type": "code",
   "execution_count": 8,
   "metadata": {},
   "outputs": [],
   "source": [
    "#Paste your previous code below this comment:"
   ]
  },
  {
   "cell_type": "markdown",
   "metadata": {},
   "source": [
    "## Take your edited code from above and change the \"s=\" to \"c=\". What happened? Can you guess what \"c=\" stands for? Is this graph more useful than the last one? Why or why not?"
   ]
  },
  {
   "cell_type": "code",
   "execution_count": 9,
   "metadata": {},
   "outputs": [],
   "source": [
    "#Paste your code below this comment:"
   ]
  },
  {
   "cell_type": "markdown",
   "metadata": {},
   "source": [
    "## Looking at the Graphs that you made above. What are some conclusions you can make about driving in the United States?"
   ]
  },
  {
   "cell_type": "markdown",
   "metadata": {},
   "source": [
    "Write your answer here: "
   ]
  },
  {
   "cell_type": "markdown",
   "metadata": {},
   "source": [
    "## How would you learn more about this data?"
   ]
  },
  {
   "cell_type": "markdown",
   "metadata": {},
   "source": [
    "Write your answer here:"
   ]
  },
  {
   "cell_type": "markdown",
   "metadata": {},
   "source": [
    "# Challenges\n",
    "\n",
    "Try out the other plots on your cheatsheet. Which ones are interesting to you? Which ones are useful? Which ones aren't?"
   ]
  },
  {
   "cell_type": "code",
   "execution_count": null,
   "metadata": {
    "collapsed": true
   },
   "outputs": [],
   "source": []
  },
  {
   "cell_type": "markdown",
   "metadata": {},
   "source": [
    "## Need More? Check out the documentation for this toolkit!\n",
    "https://pandas.pydata.org/pandas-docs/stable/visualization.html"
   ]
  }
 ],
 "metadata": {
  "kernelspec": {
   "display_name": "Python 3",
   "language": "python",
   "name": "python3"
  },
  "language_info": {
   "codemirror_mode": {
    "name": "ipython",
    "version": 3
   },
   "file_extension": ".py",
   "mimetype": "text/x-python",
   "name": "python",
   "nbconvert_exporter": "python",
   "pygments_lexer": "ipython3",
   "version": "3.5.2"
  }
 },
 "nbformat": 4,
 "nbformat_minor": 2
}
