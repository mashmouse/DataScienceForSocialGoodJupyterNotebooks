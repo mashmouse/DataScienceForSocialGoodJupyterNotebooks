{
 "metadata": {
  "name": "",
  "signature": "sha256:57f667c4d7cc6926481e163e4aa3558b3336dc143aa0d55e06f7bc37564d57c5"
 },
 "nbformat": 3,
 "nbformat_minor": 0,
 "worksheets": [
  {
   "cells": [
    {
     "cell_type": "markdown",
     "metadata": {},
     "source": [
      "#Case Study B: Weather Changes Impact Us (Part 1)\n",
      "Applying concepts from the [Presentation](https://docs.google.com/presentation/d/13BJzBOscWzpF2Gsv3lw5OE72xuumlZ8crFWQFPSMi1g/edit?usp=sharing)."
     ]
    }
   ],
   "metadata": {}
  }
 ]
}