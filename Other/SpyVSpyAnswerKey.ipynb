{
 "cells": [
  {
   "cell_type": "markdown",
   "metadata": {},
   "source": [
    "# Spy Vs. Spy Data Visualization\n",
    "Working with the data you collected during the Spy Vs. Spy activity with Jonathan, this activity will help you apply what you learned from the [Visualization Presentation](https://docs.google.com/presentation/d/124uHxvDAIpuQ3UoTHeKRN-DE-usatarFkQL2x-MlWZs/edit?usp=sharing). Use the [Visualization Reference Sheet](https://docs.google.com/presentation/d/1Fi68XnE_koPF57JLrEx2kOde7GArobMc-NsaTFbcuvo/edit#slide=id.p) to help you.\n",
    "\n",
    "**IMPORTANT** As you read through the work sheet make sure to press Ctrl+Enter to run each piece of code. If you don't you will get an error. \n",
    "Pay attention to the blue comments in the code. They provide useful factoids and instructions. \n",
    "If you answer all of the questions, attempt the challenge questions at the bottom of this Notebook. \n",
    "\n",
    "Other useful information about visualization functions in pandas (also known as documentation) can be found at the [pandas website](http://pandas.pydata.org/pandas-docs/stable/visualization.html)."
   ]
  },
  {
   "cell_type": "markdown",
   "metadata": {},
   "source": [
    "**The following cell contains setup code. No need to change any of this**"
   ]
  },
  {
   "cell_type": "code",
   "execution_count": 41,
   "metadata": {},
   "outputs": [
    {
     "name": "stdout",
     "output_type": "stream",
     "text": [
      "    numSibs evenOdd  age  favDigit  leastFavDigit bigSmall  numBeds  \\\n",
      "0         1   Other   12         3              0   Bigger        3   \n",
      "1         3   Other   13         1              4   Bigger       10   \n",
      "2         5     Odd   14         3              8  Smaller        9   \n",
      "3         5    Both   11         8              0  Smaller        8   \n",
      "4         2    Even   12         9              0   Bigger        6   \n",
      "5         1     Odd   16         7              5   Bigger        4   \n",
      "6         3     Odd   13         1              3   Bigger        7   \n",
      "7         5     Odd   11         7              0   Bigger        5   \n",
      "8         3    Even   12         8              0   Bigger        5   \n",
      "9         3    Both   10         5              3   Bigger        4   \n",
      "10        3    Even   14         4              1   Bigger        6   \n",
      "11        1    Even   11         2              5  Smaller        3   \n",
      "12        1     Odd   11         6              8   Bigger        3   \n",
      "13        1    Even   12         6              0   Bigger        5   \n",
      "14        4    Both   14         6              0  Smaller        3   \n",
      "15        0     Odd   12         5              7  Smaller        4   \n",
      "16        1    Even   14         2              9  Smaller        6   \n",
      "17        1    Both   11         0              0   Bigger        4   \n",
      "18        3     Odd   12         7              3  Smaller        6   \n",
      "19        1    Even   14         5              7  Smaller        4   \n",
      "20        1     Odd   12         1              6   Bigger        3   \n",
      "21        1     Odd   11         4              0   Bigger        3   \n",
      "22        4   Other   13         0              5  Smaller        5   \n",
      "23        3    Even   11         4              0   Bigger        8   \n",
      "24        1     Odd   11         3              9  Smaller        4   \n",
      "25        5     Odd   13         7              2   Bigger        5   \n",
      "26        4    Even   15         7              4  Smaller        8   \n",
      "27        1    Even   11         7              1   Bigger        5   \n",
      "28        2     Odd   12         4              6   Bigger        4   \n",
      "29        1    Even   12         6              5  Smaller        3   \n",
      "30        1    Even   10         6              9  Smaller        4   \n",
      "31        3     Odd   11         7              0  Smaller        3   \n",
      "32        4   Other   13         2              4   Bigger        7   \n",
      "33        1    Even   11         0              9  Smaller        3   \n",
      "34        3    Even   11         1              9   Bigger        4   \n",
      "35        7     Odd   13         3              5   Bigger        6   \n",
      "36        2    Even   12         2              7  Smaller        5   \n",
      "\n",
      "                                             favColor  firstFloorRooms  \\\n",
      "0                                                blue                6   \n",
      "1                                              purple                4   \n",
      "2                                              Purple                7   \n",
      "3                                                Blue                7   \n",
      "4                                                blue                3   \n",
      "5                                               Green               10   \n",
      "6                                              Orange                7   \n",
      "7                                                Blue                2   \n",
      "8                                               black                6   \n",
      "9                                                Pink                2   \n",
      "10                                               blue                6   \n",
      "11                                           lavender                4   \n",
      "12                                              green                5   \n",
      "13                                             orange                7   \n",
      "14                                               Blue                6   \n",
      "15                                                Red                4   \n",
      "16                                               Blue                4   \n",
      "17                                               blue                6   \n",
      "18                                              white                6   \n",
      "19                                          Debatable                5   \n",
      "20                                              Black                2   \n",
      "21                                               blue                4   \n",
      "22                                             neutal                6   \n",
      "23                                               teal                9   \n",
      "24                                              green                4   \n",
      "25                                        YELLOW WOOO                1   \n",
      "26                                               blue                5   \n",
      "27                                                red                6   \n",
      "28                                                red                6   \n",
      "29                                               Blue                6   \n",
      "30                                           turqoise                3   \n",
      "31                                          burgendy                 5   \n",
      "32                                           cerulean                6   \n",
      "33  orangeish redish pinkish greenish blueish lave...               10   \n",
      "34                                               blue                7   \n",
      "35                                               blue                6   \n",
      "36                                             orange               10   \n",
      "\n",
      "   basement     ...       weight youngerFamMemb sizeFam sizeSibs  \\\n",
      "0       Yes     ...         75.0              3       4        0   \n",
      "1     maybe     ...         90.0              2       6        3   \n",
      "2       Yes     ...        100.0              6       7        4   \n",
      "3       Yes     ...        139.0              6       8        4   \n",
      "4       Yes     ...        130.0              4       5        2   \n",
      "5       Yes     ...        125.0              5       3        3   \n",
      "6       Yes     ...        130.0              0       6        3   \n",
      "7       Yes     ...          0.0              2       4        0   \n",
      "8       Yes     ...        125.0              4       6        2   \n",
      "9       Yes     ...         94.0              3       7        1   \n",
      "10      Yes     ...        125.0              3       5        3   \n",
      "11      Yes     ...         60.0              4       3        0   \n",
      "12      Yes     ...         82.0              0       3        0   \n",
      "13      Yes     ...         74.0              4       3        1   \n",
      "14       No     ...        120.0              1       0        1   \n",
      "15      Yes     ...         75.0              2       2        0   \n",
      "16      Yes     ...        100.0              4       3        2   \n",
      "17      Yes     ...        114.0              4       4        1   \n",
      "18      Yes     ...        145.0              6       6        3   \n",
      "19      Yes     ...          0.0              4       4        1   \n",
      "20      Yes     ...        115.0              2       2        2   \n",
      "21      Yes     ...         90.0              0       3        3   \n",
      "22      Yes     ...        186.6              6      10        3   \n",
      "23      Yes     ...         73.0             10       5        0   \n",
      "24      Yes     ...         81.0              3       4        0   \n",
      "25      Yes     ...          0.0              3       7        1   \n",
      "26      Yes     ...         58.0              6       7        3   \n",
      "27      Yes     ...         80.0              2       2        0   \n",
      "28      Yes     ...        125.0              3       4        2   \n",
      "29      Yes     ...         75.0              5       3        2   \n",
      "30      Yes     ...         75.0              1       2        1   \n",
      "31      Yes     ...         55.0              4       8        8   \n",
      "32      Yes     ...          0.0              5       6       10   \n",
      "33      Yes     ...         86.0              2       4        1   \n",
      "34      Yes     ...         98.0              4       4        2   \n",
      "35      Yes     ...         96.5              6       7        3   \n",
      "36      Yes     ...         87.0              4       5        0   \n",
      "\n",
      "    famWithoutPets  likesIceCream  glasses  Unnamed: 24  Unnamed: 25  \\\n",
      "0                4              4        3          NaN          NaN   \n",
      "1                8              8        5          NaN          NaN   \n",
      "2                8              8        4          NaN          NaN   \n",
      "3                9              8        4          NaN          NaN   \n",
      "4                5              5        1          NaN          NaN   \n",
      "5                5              3        3          NaN          NaN   \n",
      "6                7              6        2          NaN          NaN   \n",
      "7                6              6        4          NaN          NaN   \n",
      "8                6              6        3          NaN          NaN   \n",
      "9                5              5        3          NaN          NaN   \n",
      "10               9              6        3          NaN          NaN   \n",
      "11               5              4        4          NaN          NaN   \n",
      "12               4              4       10          NaN          NaN   \n",
      "13               5              5        4          NaN          NaN   \n",
      "14               4              3        5          NaN          NaN   \n",
      "15               2              3        1          NaN          NaN   \n",
      "16               6              4        3          NaN          NaN   \n",
      "17               5             10       10          NaN          NaN   \n",
      "18               6              6        3          NaN          NaN   \n",
      "19               8              4        4          NaN          NaN   \n",
      "20               3              5        1          NaN          NaN   \n",
      "21               6              3        2          NaN          NaN   \n",
      "22              10              4        4          NaN          NaN   \n",
      "23               6              6        4          NaN          NaN   \n",
      "24               8              8        4          NaN          NaN   \n",
      "25               7              6        5          NaN          NaN   \n",
      "26               8              7        1          NaN          NaN   \n",
      "27               3              3        1          NaN          NaN   \n",
      "28               5              4        2          NaN          NaN   \n",
      "29               5              3        2          NaN          NaN   \n",
      "30               2              4        1          NaN          NaN   \n",
      "31               9              8        2          NaN          NaN   \n",
      "32              10              6        6          NaN          NaN   \n",
      "33               4              4        4          NaN          NaN   \n",
      "34               6              6        3          NaN          NaN   \n",
      "35               7              6        5          NaN          NaN   \n",
      "36               5              5        5          NaN          NaN   \n",
      "\n",
      "    Unnamed: 26  \n",
      "0           NaN  \n",
      "1           NaN  \n",
      "2           NaN  \n",
      "3           NaN  \n",
      "4           NaN  \n",
      "5           NaN  \n",
      "6           NaN  \n",
      "7           NaN  \n",
      "8           NaN  \n",
      "9           NaN  \n",
      "10          NaN  \n",
      "11          NaN  \n",
      "12          NaN  \n",
      "13          NaN  \n",
      "14          NaN  \n",
      "15          NaN  \n",
      "16          NaN  \n",
      "17          NaN  \n",
      "18          NaN  \n",
      "19          NaN  \n",
      "20          NaN  \n",
      "21          NaN  \n",
      "22          NaN  \n",
      "23          NaN  \n",
      "24          NaN  \n",
      "25          NaN  \n",
      "26          NaN  \n",
      "27          NaN  \n",
      "28          NaN  \n",
      "29          NaN  \n",
      "30          NaN  \n",
      "31          NaN  \n",
      "32          NaN  \n",
      "33          NaN  \n",
      "34          NaN  \n",
      "35          NaN  \n",
      "36          NaN  \n",
      "\n",
      "[37 rows x 27 columns]\n"
     ]
    }
   ],
   "source": [
    "%matplotlib inline\n",
    "import pandas as pd\n",
    "import numpy as np\n",
    "import statistics as st\n",
    "import matplotlib\n",
    "\n",
    "matplotlib.style.use('ggplot')\n",
    "surveyDataFile = 'https://raw.githubusercontent.com/mashmouse/DataScienceForSocialGoodJupyterNotebooks/master/Data/SpyVsSpySurveyDataCleaned.csv'\n",
    "data = pd.read_csv(surveyDataFile)\n",
    "df = pd.DataFrame(data)\n",
    "print(data)"
   ]
  },
  {
   "cell_type": "markdown",
   "metadata": {},
   "source": [
    "## Question 1: Siblings\n",
    "Refer to your cheat sheet for syntax if you have forgotten it!\n",
    "\n",
    "### Step 1: Graph it\n",
    "\n",
    "** Make a scatter plot of how old the campers are compared to how many siblings they have.**\n",
    "\n",
    "*Hint: use the columns 'age' and 'numSibs'*\n"
   ]
  },
  {
   "cell_type": "code",
   "execution_count": 28,
   "metadata": {},
   "outputs": [
    {
     "data": {
      "text/plain": [
       "<matplotlib.axes._subplots.AxesSubplot at 0x7faf41976160>"
      ]
     },
     "execution_count": 28,
     "metadata": {},
     "output_type": "execute_result"
    },
    {
     "data": {
      "image/png": "[encoded data removed]",
      "text/plain": [
       "<matplotlib.figure.Figure at 0x7faf41915160>"
      ]
     },
     "metadata": {},
     "output_type": "display_data"
    }
   ],
   "source": [
    "#type the code for your scatter plot here\n",
    "df.plot.scatter(x='age', y='numSibs',figsize=(20,15))"
   ]
  },
  {
   "cell_type": "markdown",
   "metadata": {},
   "source": [
    "### Step 2: Analysis\n",
    "Do you notice any trends in this data?\n",
    "\n",
    "ANSWER HERE\n",
    "\n",
    "What would you have predicted this graph would look like? (before you saw it)\n",
    "\n",
    "ANSWER HERE\n",
    "\n",
    "These questions were from Halle's group. What do you think they were trying to answer, and do \n",
    "you think they succeded?\n",
    "\n",
    "\n",
    "ANSWER HERE"
   ]
  },
  {
   "cell_type": "markdown",
   "metadata": {},
   "source": [
    "## Question 2: House Size\n",
    "Refer to your cheat sheet for syntax if you have forgotten it!"
   ]
  },
  {
   "cell_type": "markdown",
   "metadata": {},
   "source": [
    "### Step 1: Graph it\n",
    "**Make a bar chart of whether campers have basements or not. **\n",
    "We made you a new dataframe with just the basement data. Use 'dfBasement' to make your bar chart.\n"
   ]
  },
  {
   "cell_type": "code",
   "execution_count": 35,
   "metadata": {},
   "outputs": [
    {
     "data": {
      "text/plain": [
       "<matplotlib.axes._subplots.AxesSubplot at 0x7faf41412160>"
      ]
     },
     "execution_count": 35,
     "metadata": {},
     "output_type": "execute_result"
    },
    {
     "data": {
      "image/png": "[encoded data removed]",
      "text/plain": [
       "<matplotlib.figure.Figure at 0x7faf413dbe48>"
      ]
     },
     "metadata": {},
     "output_type": "display_data"
    }
   ],
   "source": [
    "#No need to touch this. This is setting up a new DataFrame\n",
    "yesData = [34]\n",
    "maybeData = [1]\n",
    "noData = [1]\n",
    "basementData = {'Yes': pd.Series(yesData),\n",
    "        'Maybe' : pd.Series(maybeData),\n",
    "        'No' : pd.Series(noData)}\n",
    "dfBasement = pd.DataFrame(basementData)\n"
   ]
  },
  {
   "cell_type": "code",
   "execution_count": null,
   "metadata": {
    "collapsed": true
   },
   "outputs": [],
   "source": [
    "#Type the code for your bar chart here\n",
    "dfBasement.plot.bar() "
   ]
  },
  {
   "cell_type": "markdown",
   "metadata": {},
   "source": [
    "### Step 2: Look at a new dataframe\n",
    "Make and print a new dataframe with these two columns: 'firstFloorRooms' and 'secondFloor'."
   ]
  },
  {
   "cell_type": "code",
   "execution_count": 47,
   "metadata": {},
   "outputs": [
    {
     "name": "stdout",
     "output_type": "stream",
     "text": [
      "    firstFloorRooms  secondFloor\n",
      "0                 6            2\n",
      "1                 4            2\n",
      "2                 7            2\n",
      "3                 7            2\n",
      "4                 3            1\n",
      "5                10            1\n",
      "6                 7            1\n",
      "7                 2            2\n",
      "8                 6            2\n",
      "9                 2            2\n",
      "10                6            1\n",
      "11                4            2\n",
      "12                5            1\n",
      "13                7            1\n",
      "14                6            1\n",
      "15                4            1\n",
      "16                4            2\n",
      "17                6            1\n",
      "18                6            1\n",
      "19                5            2\n",
      "20                2            2\n",
      "21                4            2\n",
      "22                6            2\n",
      "23                9            2\n",
      "24                4            1\n",
      "25                1            2\n",
      "26                5            2\n",
      "27                6            1\n",
      "28                6            2\n",
      "29                6            2\n",
      "30                3            2\n",
      "31                5            2\n",
      "32                6            2\n",
      "33               10            2\n",
      "34                7            1\n",
      "35                6            2\n",
      "36               10            1\n"
     ]
    }
   ],
   "source": [
    "#Code for your new dataframe here\n",
    "firstFloorRooms = [6, 4, 7, 7, 3, 10, 7, 2, 6, 2, 6, 4, 5, 7, 6, 4, 4, 6, 6, 5, 2, 4, 6, 9, 4, 1, 5, 6, 6, 6, 3, 5, 6, 10, 7, 6, 10] \n",
    "secondFloor = [2, 2, 2, 2, 1, 1, 1, 2, 2, 2, 1, 2, 1, 1, 1, 1, 2, 1, 1, 2, 2, 2, 2, 2, 1, 2, 2, 1, 2, 2, 2, 2, 2, 2, 1, 2, 1] \n",
    "floorData = {'firstFloorRooms': pd.Series(firstFloorRooms),\n",
    "             'secondFloor': pd.Series(secondFloor)}\n",
    "dfFloor = pd.DataFrame(floorData)\n",
    "#print your dataframe here\n",
    "print(dfFloor)"
   ]
  },
  {
   "cell_type": "markdown",
   "metadata": {},
   "source": [
    "### Step 3: Analysis\n",
    "Do more campers have basements, or no basement?\n",
    "\n",
    "ANSWER HERE\n",
    "\n",
    "Does this surprise you at all?\n",
    "\n",
    "ANSWER HERE\n",
    "\n",
    "Using the data for the number of rooms on the first floor, and the answer to \"Do you have a second floor?\", do you think you could predict how many rooms were in a house?\n",
    "\n",
    "ANSWER HERE\n"
   ]
  },
  {
   "cell_type": "markdown",
   "metadata": {},
   "source": [
    "### Step 4: Extension Question\n",
    "**Write code that calculates how many rooms each camper has in their house based on how many rooms they have on their first floor and whether or not they have a second floor.**\n",
    "\n",
    "*Hint: firstFloorRooms x secondFloor = totalRooms*"
   ]
  },
  {
   "cell_type": "code",
   "execution_count": 50,
   "metadata": {},
   "outputs": [
    {
     "name": "stdout",
     "output_type": "stream",
     "text": [
      "[12  8 14 14  3 10  7  4 12  4  6  8  5  7  6  4  8  6  6 10  4  8 12 18  4\n",
      "  2 10  6 12 12  6 10 12 20  7 12 10]\n"
     ]
    }
   ],
   "source": [
    "#Remeber how Halle did this for the car crash data? She used numPy to combine two columns of data to make a new list\n",
    "#crashDeathsPerCapita = np.divide(crashDeaths2015, pop2015)\n",
    "totalRooms = np.multiply(firstFloorRooms, secondFloor)\n",
    "print(totalRooms)"
   ]
  },
  {
   "cell_type": "markdown",
   "metadata": {},
   "source": [
    "## Question 3: Sleep\n",
    "Refer to your cheat sheet for syntax if you have forgotten it!"
   ]
  },
  {
   "cell_type": "markdown",
   "metadata": {},
   "source": [
    "### Step 1: Calculate\n",
    "**Calculate and print the maximum of 'bedtime' and the minimum of 'wakeup'**"
   ]
  },
  {
   "cell_type": "code",
   "execution_count": 86,
   "metadata": {},
   "outputs": [
    {
     "name": "stdout",
     "output_type": "stream",
     "text": [
      "23.5\n",
      "4.5\n"
     ]
    }
   ],
   "source": [
    "#code your calculations here\n",
    "maxBed = df['bedtime'].max()\n",
    "print(maxBed)\n",
    "minWake = df['wakeup'].min()\n",
    "print(minWake)\n"
   ]
  },
  {
   "cell_type": "markdown",
   "metadata": {},
   "source": [
    "### Step 2: Graph it\n",
    "**Make a scatterplot graphing 'bedtime' compared to 'wakeup'.**"
   ]
  },
  {
   "cell_type": "code",
   "execution_count": 79,
   "metadata": {},
   "outputs": [
    {
     "data": {
      "text/plain": [
       "<matplotlib.axes._subplots.AxesSubplot at 0x7faf40634710>"
      ]
     },
     "execution_count": 79,
     "metadata": {},
     "output_type": "execute_result"
    },
    {
     "data": {
      "image/png": "[encoded data removed]",
      "text/plain": [
       "<matplotlib.figure.Figure at 0x7faf405f5b00>"
      ]
     },
     "metadata": {},
     "output_type": "display_data"
    }
   ],
   "source": [
    "#Make a scatterplot graphing 'bedtime' compared to 'wakeup'.\n",
    "df.plot.scatter(x = 'bedtime', y = 'wakeup', figsize=(20,15))"
   ]
  },
  {
   "cell_type": "markdown",
   "metadata": {},
   "source": [
    "### Step 3: Analysis\n",
    "What was the latest time someone went to bed?\n",
    "\n",
    "ANSWER HERE\n",
    "\n",
    "What was the earliest time someone got up?\n",
    "\n",
    "ANSWER HERE\n",
    "\n",
    "What do you think Jonah's group was trying to figure out? Do they have enough data to do this?\n"
   ]
  },
  {
   "cell_type": "code",
   "execution_count": 56,
   "metadata": {},
   "outputs": [
    {
     "name": "stdout",
     "output_type": "stream",
     "text": [
      "[0, 2, 2, 2, 2, 3, 3, 3, 3, 3, 3, 3, 4, 4, 4, 4, 4, 4, 4, 4, 5, 5, 5, 5, 6, 6, 6, 6, 6, 7, 7, 7, 7, 7, 8, 8, 10]\n"
     ]
    }
   ],
   "source": [
    "#Extension: Using 'bedtime' and 'wakeup', write code to figure out how many hours campers sleep at night, and lable this hoursSlept.\n",
    "\n",
    "#Calculate and print the maximum and minimum of 'hoursSlept'\n",
    "\n",
    "#Remeber how Halle did this for the car crash data? She used numPy to combine two columns of data to make a new list\n",
    "#crashDeathsPerCapita = np.divide(crashDeaths2015, pop2015)\n"
   ]
  },
  {
   "cell_type": "markdown",
   "metadata": {},
   "source": [
    "## Question 4: Family Size\n",
    "Refer to your cheat sheet for syntax if you have forgotten it!"
   ]
  },
  {
   "cell_type": "code",
   "execution_count": 82,
   "metadata": {},
   "outputs": [],
   "source": [
    "#Here is a new dataframe with information about family size. Don't touch it!\n",
    "zero = [1]\n",
    "one = [0]\n",
    "two = [4]\n",
    "three = [7]\n",
    "four = [8]\n",
    "five = [4]\n",
    "six = [5]\n",
    "seven = [5]\n",
    "eight = [2]\n",
    "nine = [0]\n",
    "ten = [1]\n",
    "familyData = {'01': pd.Series(one),\n",
    "             '02': pd.Series(two),\n",
    "             '03': pd.Series(three),\n",
    "             '04': pd.Series(four),\n",
    "            '05': pd.Series(five),\n",
    "             '06': pd.Series(six),\n",
    "             '07': pd.Series(seven),\n",
    "             '08': pd.Series(eight),\n",
    "              '09': pd.Series(nine),\n",
    "             '10': pd.Series(ten)}\n",
    "dfFamily = pd.DataFrame(familyData)"
   ]
  },
  {
   "cell_type": "markdown",
   "metadata": {},
   "source": [
    "\n",
    "### Step 1: Graph it\n",
    "**MAke a bar chart of the responses to 'sizeFam' using the DataFrame above**\n",
    "*Hint: This DataFrame is called 'dfFamily'"
   ]
  },
  {
   "cell_type": "code",
   "execution_count": 83,
   "metadata": {},
   "outputs": [
    {
     "data": {
      "text/plain": [
       "<matplotlib.axes._subplots.AxesSubplot at 0x7faf4059a240>"
      ]
     },
     "execution_count": 83,
     "metadata": {},
     "output_type": "execute_result"
    },
    {
     "data": {
      "image/png": "[encoded data removed]",
      "text/plain": [
       "<matplotlib.figure.Figure at 0x7faf4048aac8>"
      ]
     },
     "metadata": {},
     "output_type": "display_data"
    }
   ],
   "source": [
    "#Make a pie chart of the responses to 'sizeFam'\\\n",
    "dfFamily.plot.bar()\n",
    "#We haven't done this kind of visualization yet, but your cheat sheet tells you how!\n",
    "#If you can't figure this one out, just move on to the next one and come back if you have time."
   ]
  },
  {
   "cell_type": "markdown",
   "metadata": {},
   "source": [
    "### Step 2: Analysis:\n",
    "Which number of family members was the most popular?\n",
    "\n",
    "ANSWER HERE\n",
    "\n",
    "Least popular?\n",
    "\n",
    "ANSWER HERE\n",
    "\n",
    "Does anyone have particularly large or small families? Were you surprised?"
   ]
  },
  {
   "cell_type": "markdown",
   "metadata": {},
   "source": [
    "## Question 5: Pets and Ice Cream\n",
    "Refer to your cheat sheet for syntax if you have forgotten it!"
   ]
  },
  {
   "cell_type": "markdown",
   "metadata": {},
   "source": [
    "### Step 1: Graph it\n",
    "**Make a scatterplot to plot 'numPets' (number of pets) and 'likesIceCream' (number of family members who like ice cream.)**"
   ]
  },
  {
   "cell_type": "code",
   "execution_count": 18,
   "metadata": {},
   "outputs": [
    {
     "data": {
      "text/plain": [
       "<matplotlib.axes._subplots.AxesSubplot at 0x7faf41bea128>"
      ]
     },
     "execution_count": 18,
     "metadata": {},
     "output_type": "execute_result"
    },
    {
     "data": {
      "image/png": "[encoded data removed]",
      "text/plain": [
       "<matplotlib.figure.Figure at 0x7faf41ca54a8>"
      ]
     },
     "metadata": {},
     "output_type": "display_data"
    }
   ],
   "source": [
    "# Make your scatterplot here\n",
    "df.plot.scatter(x='numPets', y='likesIceCream')"
   ]
  },
  {
   "cell_type": "markdown",
   "metadata": {},
   "source": [
    "### Step 2: Analysis\n",
    "Does there apear to be any relationship between how many pets a camper has and how many family members like ice cream?\n",
    "\n",
    "ANSWER HERE\n",
    "\n",
    "Would you have expected there to be a more clear or a less clear relationship?\n",
    "\n",
    "ANSWER HERE\n",
    "\n"
   ]
  },
  {
   "cell_type": "markdown",
   "metadata": {},
   "source": [
    "## Question 6: Height?\n",
    "Refer to your cheat sheet for syntax if you have forgotten it!\n",
    "Remember that wingspan is a good approximation for the height of a person. "
   ]
  },
  {
   "cell_type": "markdown",
   "metadata": {},
   "source": [
    "### Step 1: Graph it\n",
    "**make a scatter plot of 'weight' in relation to 'wingSpan'**"
   ]
  },
  {
   "cell_type": "code",
   "execution_count": 66,
   "metadata": {},
   "outputs": [
    {
     "data": {
      "text/plain": [
       "<matplotlib.axes._subplots.AxesSubplot at 0x7faf4088b6d8>"
      ]
     },
     "execution_count": 66,
     "metadata": {},
     "output_type": "execute_result"
    },
    {
     "data": {
      "image/png": "[encoded data removed]",
      "text/plain": [
       "<matplotlib.figure.Figure at 0x7faf4099b0f0>"
      ]
     },
     "metadata": {},
     "output_type": "display_data"
    }
   ],
   "source": [
    "# Make your scatter plot here\n",
    "df.plot.scatter(y='weight', x='wingSpan')"
   ]
  },
  {
   "cell_type": "markdown",
   "metadata": {},
   "source": [
    "### Step 2: Analysis\n",
    "What do you think the responses of \"0\" were? \n",
    "\n",
    "ANSWER HERE\n",
    "\n",
    "Did height and weight appear to be related? If yes, describe the relationship.\n",
    "\n",
    "ANSWER HERE\n",
    "\n",
    "By asking about wingspan, what do you think Caelin's group was trying to find out? Did they get this information?\n",
    "\n",
    "ANSWER HERE"
   ]
  },
  {
   "cell_type": "code",
   "execution_count": null,
   "metadata": {
    "collapsed": true
   },
   "outputs": [],
   "source": []
  }
 ],
 "metadata": {
  "kernelspec": {
   "display_name": "Python 3",
   "language": "python",
   "name": "python3"
  },
  "language_info": {
   "codemirror_mode": {
    "name": "ipython",
    "version": 3
   },
   "file_extension": ".py",
   "mimetype": "text/x-python",
   "name": "python",
   "nbconvert_exporter": "python",
   "pygments_lexer": "ipython3",
   "version": "3.5.2"
  }
 },
 "nbformat": 4,
 "nbformat_minor": 2
}
