{
 "metadata": {
  "name": "",
  "signature": "sha256:4dd4e4a9642dc85549899db5cfb634395161c6fd1948fd7dfb2247c94c49ed99"
 },
 "nbformat": 3,
 "nbformat_minor": 0,
 "worksheets": [
  {
   "cells": [
    {
     "cell_type": "markdown",
     "metadata": {},
     "source": [
      "#Case Study C #TwitterFilter\n",
      "Applying concepts from the [Case Study Presentation](https://docs.google.com/presentation/d/1C8AFm7M1ECvhhGgb_4wVK7Ku6__Sb_zvI0G7G0DexNc/edit#slide=id.g23eeffcc77_0_173) and the [Functions Presentations](https://docs.google.com/presentation/d/1Oul4QBz2LBDl_A8Q-RIt-36qY4CzOw4As2cqg1fuHYc/edit#slide=id.p)\n",
      "###Setting up\n",
      "Import the necessary packages to open the csv file. Open and read the data."
     ]
    },
    {
     "cell_type": "code",
     "collapsed": false,
     "input": [
      "\n",
      "filename = \"/home/phamanht/map2017/AllTweets.csv\"\n"
     ],
     "language": "python",
     "metadata": {},
     "outputs": []
    },
    {
     "cell_type": "markdown",
     "metadata": {},
     "source": [
      "###Questions\n",
      "Write a sentence or two to answer the following questions.\n",
      "\n",
      "**What do you know about the data?** _Answer here_\n",
      "\n",
      "Use the **method describe()** on your data to find our more about your data\n",
      "\n",
      "**What would you like to know about your data?** _Answer here_\n",
      "\n",
      "**How can we get meaningful information from large datasets?** _Answer here_"
     ]
    },
    {
     "cell_type": "markdown",
     "metadata": {},
     "source": [
      "###First Question\n"
     ]
    },
    {
     "cell_type": "code",
     "collapsed": false,
     "input": [],
     "language": "python",
     "metadata": {},
     "outputs": []
    },
    {
     "cell_type": "markdown",
     "metadata": {},
     "source": [
      "###Pose a Question\n",
      "What would you like to know more about the data? Write your own question and write a function that would answer the question\n",
      "\n",
      "**Question:** \n",
      "        \n",
      " \n",
      "\n",
      "**Function planning:**\n",
      "\n",
      "_Name of the function:_ \n",
      "\n",
      "_Possible inputs and their names:_ \n",
      "\n",
      "_Possible outputs of the function:_\n",
      "\n",
      "_Instructions the function is to execute:_\n"
     ]
    },
    {
     "cell_type": "code",
     "collapsed": false,
     "input": [],
     "language": "python",
     "metadata": {},
     "outputs": []
    },
    {
     "cell_type": "markdown",
     "metadata": {},
     "source": [
      "###Extension\n",
      "Write a function that takes in 2 strings as inpus. The first string **username** is a twitter username under the link column in the dataset. The second string **word** is a word or phrase possibly mentioned in the user's tweet. The function should count how many times **username** tweets the **word**. \n",
      "\n",
      "**Challenge:** Print all of the tweets that contains **word** as tweeted by **username** "
     ]
    },
    {
     "cell_type": "code",
     "collapsed": false,
     "input": [],
     "language": "python",
     "metadata": {},
     "outputs": [],
     "prompt_number": 0
    }
   ],
   "metadata": {}
  }
 ]
}