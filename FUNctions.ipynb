{
 "metadata": {
  "name": "",
  "signature": "sha256:3e731b37a78c5c3073dd35ce0f7b0396747b68b2e9d9a8c43fbbac7eb8f4f689"
 },
 "nbformat": 3,
 "nbformat_minor": 0,
 "worksheets": [
  {
   "cells": [
    {
     "cell_type": "markdown",
     "metadata": {},
     "source": [
      "#Functions\n",
      "Define a function __double_even__ that takes in a number __num__ and doubles __num__ if __num__ is even. If __num__ is not even, the function does nothing."
     ]
    },
    {
     "cell_type": "code",
     "collapsed": false,
     "input": [
      "def double_even (num):\n",
      "    if num % 2 == 0:\n",
      "        return num * 2\n"
     ],
     "language": "python",
     "metadata": {},
     "outputs": [],
     "prompt_number": 2
    },
    {
     "cell_type": "markdown",
     "metadata": {},
     "source": [
      "###Try it Yourself!\n",
      "Define a function **greetings** that takes a military time (ex: 600, 1830) as input and greets the user according to the time of the day.\n",
      "\n",
      "\n",
      "**Function planning:**\n",
      "\n",
      "_Name of the function:_ \n",
      "\n",
      "_Possible inputs and their names:_ \n",
      "\n",
      "_Possible outputs of the function:_\n",
      "\n",
      "_Instructions the function is to execute:_"
     ]
    },
    {
     "cell_type": "code",
     "collapsed": false,
     "input": [],
     "language": "python",
     "metadata": {},
     "outputs": []
    },
    {
     "cell_type": "markdown",
     "metadata": {},
     "source": [
      "###Extensions\n"
     ]
    },
    {
     "cell_type": "code",
     "collapsed": false,
     "input": [],
     "language": "python",
     "metadata": {},
     "outputs": []
    }
   ],
   "metadata": {}
  }
 ]
}