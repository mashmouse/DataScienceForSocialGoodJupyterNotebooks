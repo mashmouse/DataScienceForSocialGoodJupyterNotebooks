{
 "cells": [
  {
   "cell_type": "markdown",
   "metadata": {},
   "source": [
    "# FUNctions\n",
    "### Doubly positive\n",
    "\n",
    "Define a function __double_positive__ that takes in a number __num__ and doubles __num__ if __num__ is positive. If __num__ is not positive, the function returns __num__."
   ]
  },
  {
   "cell_type": "code",
   "execution_count": 10,
   "metadata": {
    "collapsed": false
   },
   "outputs": [
    {
     "name": "stdout",
     "output_type": "stream",
     "text": [
      "5.0\n",
      "-4\n"
     ]
    }
   ],
   "source": [
    "def double_positive (num):\n",
    "    if num > 0:\n",
    "        return num * 2\n",
    "    else: \n",
    "        return num\n",
    "    \n",
    "print(double_positive(2.5))\n",
    "print(double_positive(-4))"
   ]
  },
  {
   "cell_type": "markdown",
   "metadata": {},
   "source": [
    "### Fun Greetings\n",
    "Define a function **greetings** that takes a military time (ex: 600, 1830) as a parameter and greets the user according to the time of the day.\n",
    "\n",
    "\n",
    "**Function planning:**\n",
    "\n",
    "_Name of the function:_ \n",
    "\n",
    "_Possible inputs and their names:_ \n",
    "\n",
    "_Possible outputs of the function:_\n",
    "\n",
    "_Instructions the function is to execute:_"
   ]
  },
  {
   "cell_type": "code",
   "execution_count": null,
   "metadata": {
    "collapsed": false
   },
   "outputs": [],
   "source": []
  },
  {
   "cell_type": "markdown",
   "metadata": {},
   "source": [
    "### Whatzitdo\n",
    "\n",
    "Anh Thu wrote a function last night, but she was so tired that she forgot what her function does! In her deliria, she gave the function and its parameters some interesting name. Can you figure out what this function is supposed to do?\n",
    "\n",
    "After you figured out what the function does, rename the function and its parameters so that others who read this code in the future can easily understand the function."
   ]
  },
  {
   "cell_type": "code",
   "execution_count": 7,
   "metadata": {
    "collapsed": false
   },
   "outputs": [],
   "source": [
    "def dave (bea, caelin, halle):\n",
    "    return  bea + halle + 2 * caelin - min([bea, caelin, halle]) - caelin - max([bea, caelin, halle])\n"
   ]
  },
  {
   "cell_type": "markdown",
   "metadata": {},
   "source": [
    "### Extension 1\n",
    "Define a function that takes in a list **lst** and a number **num**. The function should multiply each element of **lst** by **num**.\n",
    "\n",
    "**Function planning:**\n",
    "\n",
    "_Name of the function:_ \n",
    "\n",
    "_Possible inputs and their names:_ \n",
    "\n",
    "_Possible outputs of the function:_\n",
    "\n",
    "_Instructions the function is to execute:_"
   ]
  },
  {
   "cell_type": "code",
   "execution_count": null,
   "metadata": {
    "collapsed": false
   },
   "outputs": [],
   "source": []
  },
  {
   "cell_type": "markdown",
   "metadata": {},
   "source": [
    "### Extension 2\n",
    "Think of a fun function and write it! If you need help thinking of functions, try one from the list below.\n",
    "\n",
    "Prompts:\n",
    "- a function that takes in two lists as parameters and adds the elements of each lists together\n",
    "- a function that takes a time as parameter and suggests things that the user should do accordingly\n",
    "- a function that grades a password according to its:\n",
    "    - length\n",
    "    - use of different characters, upper and lower cases, and numbers\n",
    "- a function that takes in a list of words and finds the shortest word\n"
   ]
  },
  {
   "cell_type": "code",
   "execution_count": null,
   "metadata": {
    "collapsed": false
   },
   "outputs": [],
   "source": []
  }
 ],
 "metadata": {
  "kernelspec": {
   "display_name": "Python 2",
   "language": "python",
   "name": "python2"
  },
  "language_info": {
   "codemirror_mode": {
    "name": "ipython",
    "version": 2
   },
   "file_extension": ".py",
   "mimetype": "text/x-python",
   "name": "python",
   "nbconvert_exporter": "python",
   "pygments_lexer": "ipython2",
   "version": "2.7.13"
  }
 },
 "nbformat": 4,
 "nbformat_minor": 0
}
