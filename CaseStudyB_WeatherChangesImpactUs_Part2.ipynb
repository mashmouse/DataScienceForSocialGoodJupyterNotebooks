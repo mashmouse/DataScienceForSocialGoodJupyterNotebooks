{
 "metadata": {
  "name": "",
  "signature": "sha256:1d19fead7e2bc8f47d6552f7d37d532785802013c6a8e89b81a8c63a116f54c0"
 },
 "nbformat": 3,
 "nbformat_minor": 0,
 "worksheets": [
  {
   "cells": [
    {
     "cell_type": "markdown",
     "metadata": {},
     "source": [
      "#Case Study B: Weather Changes Impact Us (Part 2)\n",
      "Applying concepts from the [Case Study B Presentation](https://docs.google.com/presentation/d/13BJzBOscWzpF2Gsv3lw5OE72xuumlZ8crFWQFPSMi1g/edit?usp=sharing) and the [Visualization Presentation](https://docs.google.com/presentation/d/124uHxvDAIpuQ3UoTHeKRN-DE-usatarFkQL2x-MlWZs/edit?usp=sharing).\n",
      "\n",
      "Pay attention to the blue comments in the code. They provide useful factoids and instructions. \n",
      "Other useful information about visualization functions in pandas (also known as documentation) can be found at the [pandas website](http://pandas.pydata.org/pandas-docs/stable/visualization.html)."
     ]
    },
    {
     "cell_type": "markdown",
     "metadata": {},
     "source": [
      "###Jupyter tips:\n",
      "Command Mode (press Esc or click whitespace to enable)\n",
      "\n",
      "+ Enter : edit mode\n",
      "+ Shift-Enter : run cell, select below\n",
      "+ Ctrl-Enter : run cell\n",
      "+ Alt-Enter : run cell, insert below\n",
      "\n",
      "**For more keyboard shortcuts click 'Help'->'Keyboard Shortcuts' from the toolbar**"
     ]
    },
    {
     "cell_type": "markdown",
     "metadata": {},
     "source": [
      "##Setup\n",
      "Making two datasets one for each set of prediction data given by the predDataFile. Those predictinos are based on two RCP () greenhouse gas concentration (not emissions) trajectories. For more information on RPC's check out this [link](https://www.skepticalscience.com/rcp.php?t=3#trajectories)."
     ]
    },
    {
     "cell_type": "code",
     "collapsed": false,
     "input": [
      "#Complete the following import statement, what was the library we needed???\n",
      "import pandas as pd\n",
      "\n",
      "histDataFile = '/home/remashma/glimmer/Data/PoweshiekTemperatureHistF.csv'\n",
      "predDataFile = '/home/remashma/glimmer/Data/PoweshiekTemperaturePredictionsF.csv'\n",
      "\n",
      "histData = pd.read_csv(histDataFile)\n",
      "predData = pd.read_csv(predDataFile)\n",
      "\n",
      "histdf = pd.DataFrame(histData) #Use this DataFrame to look at historical data.\n",
      "preddf = pd.DataFrame(predData)\n",
      "\n",
      "pred45df = preddf.iloc[:, :6]\n",
      "pred85df = preddf.iloc[:, [0, 6, 7, 8, 9, 10]]\n",
      "\n",
      "pred45df.columns = ['year', 'median', 'max', 'min', 'p10', 'p90']\n",
      "pred85df.columns = ['year', 'median', 'max', 'min', 'p10', 'p90']\n",
      "\n",
      "\n",
      "frames45 = [histdf, pred45df]\n",
      "df45 = pd.concat(frames45) #Use this dataset to look at historical data and prediction data based on the rcp45.\n",
      "\n",
      "frames85 = [histdf, pred85df]\n",
      "df85 = pd.concat(frames85) #Use this dataset to look at historical data and prediction data based on the rcp85."
     ],
     "language": "python",
     "metadata": {},
     "outputs": [],
     "prompt_number": 15
    },
    {
     "cell_type": "markdown",
     "metadata": {},
     "source": [
      "##Question 1: Make observations and analyze the plot of the historical data? Is temperature changing at a constant rate?\n",
      "Plot and analze the data (**using histdf**)."
     ]
    },
    {
     "cell_type": "code",
     "collapsed": false,
     "input": [
      "#What statement must be included to visualized data?\n",
      "\n",
      "#Put the code for the plot below.\n"
     ],
     "language": "python",
     "metadata": {},
     "outputs": [],
     "prompt_number": 18
    },
    {
     "cell_type": "markdown",
     "metadata": {},
     "source": [
      "###Analysis Questions:\n",
      "**What are some possible explanations for how the data looks?** \n",
      "ANSWER HERE\n",
      "\n",
      "**What data is missing from the dataset?**ANSWER HERE\n",
      "\n",
      "**What other pieces of data would be interesting to know?** ANSWER HERE\n",
      "\n"
     ]
    },
    {
     "cell_type": "markdown",
     "metadata": {},
     "source": [
      "##Question 2: Which years was the temperature(the most concentrated)?\n",
      "Visualize and analyze the data as it's shown in the graph.\n",
      "Challenge: Write code to find out which ye"
     ]
    },
    {
     "cell_type": "code",
     "collapsed": false,
     "input": [],
     "language": "python",
     "metadata": {},
     "outputs": []
    },
    {
     "cell_type": "markdown",
     "metadata": {},
     "source": [
      "##Extension 1: Form a question about the data (historical and/or predication) and use a visualization to answer it."
     ]
    }
   ],
   "metadata": {}
  }
 ]
}