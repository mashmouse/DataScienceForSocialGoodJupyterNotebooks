{
 "metadata": {
  "name": "",
  "signature": "sha256:8d9edaf719564c8c49fdda260a51be6db9b4239ac46be38e241f8f4a7b5ae4db"
 },
 "nbformat": 3,
 "nbformat_minor": 0,
 "worksheets": [
  {
   "cells": [
    {
     "cell_type": "markdown",
     "metadata": {},
     "source": [
      "#Functions\n",
      "Define a function __double_even__ that takes in a number __num__ and doubles __num__ if __num__ is even. If __num__ is not even, the function returns __num__."
     ]
    },
    {
     "cell_type": "code",
     "collapsed": false,
     "input": [
      "def double_even (num):\n",
      "    if num % 2 == 0:\n",
      "        return num * 2\n",
      "    else: \n",
      "        return num\n",
      "print(double_even(2.5))"
     ],
     "language": "python",
     "metadata": {},
     "outputs": [
      {
       "output_type": "stream",
       "stream": "stdout",
       "text": [
        "2.5\n"
       ]
      }
     ],
     "prompt_number": 5
    },
    {
     "cell_type": "markdown",
     "metadata": {},
     "source": [
      "###Fun Greetings\n",
      "Define a function **greetings** that takes a military time (ex: 600, 1830) as input and greets the user according to the time of the day.\n",
      "\n",
      "\n",
      "**Function planning:**\n",
      "\n",
      "_Name of the function:_ \n",
      "\n",
      "_Possible inputs and their names:_ \n",
      "\n",
      "_Possible outputs of the function:_\n",
      "\n",
      "_Instructions the function is to execute:_"
     ]
    },
    {
     "cell_type": "code",
     "collapsed": false,
     "input": [],
     "language": "python",
     "metadata": {},
     "outputs": []
    },
    {
     "cell_type": "markdown",
     "metadata": {},
     "source": [
      "###Extension\n",
      "Define a function that takes in a list **lst** and a number **num**. The function should multiply each element of **lst** by **num**."
     ]
    },
    {
     "cell_type": "code",
     "collapsed": false,
     "input": [],
     "language": "python",
     "metadata": {},
     "outputs": []
    }
   ],
   "metadata": {}
  }
 ]
}