{
 "metadata": {
  "name": "",
  "signature": "sha256:782164d15183b191d19492b46a566bdb578a2e92cce8c7c95f049acb10898dd5"
 },
 "nbformat": 3,
 "nbformat_minor": 0,
 "worksheets": [
  {
   "cells": [
    {
     "cell_type": "markdown",
     "metadata": {},
     "source": [
      "#Case Study B: Weather Changes Impact Us (Part 2)\n",
      "Applying concepts from the [Case Study B Presentation](https://docs.google.com/presentation/d/13BJzBOscWzpF2Gsv3lw5OE72xuumlZ8crFWQFPSMi1g/edit?usp=sharing) and the [Visualization Presentation](https://docs.google.com/presentation/d/124uHxvDAIpuQ3UoTHeKRN-DE-usatarFkQL2x-MlWZs/edit?usp=sharing).\n",
      "\n",
      "Pay attention to the blue comments in the code. They provide useful factoids and instructions. \n",
      "Other useful information about visualization functions in pandas (also known as documentation) can be found at the [pandas website](http://pandas.pydata.org/pandas-docs/stable/visualization.html)."
     ]
    },
    {
     "cell_type": "markdown",
     "metadata": {},
     "source": [
      "###Jupyter tips:\n",
      "Command Mode (press Esc or click whitespace to enable)\n",
      "\n",
      "+ Enter : edit mode\n",
      "+ Shift-Enter : run cell, select below\n",
      "+ Ctrl-Enter : run cell\n",
      "+ Alt-Enter : run cell, insert below\n",
      "\n",
      "**For more keyboard shortcuts click 'Help'->'Keyboard Shortcuts' from the toolbar**"
     ]
    },
    {
     "cell_type": "markdown",
     "metadata": {},
     "source": [
      "##Setup\n",
      "Making two datasets one for each set of prediction data given by the predDataFile. Those predictions are based on two RCP (Representative Concentration Pathways) predictions which are greenhouse gas concentration trajectories. For more information on RPC's check out this [link](https://www.skepticalscience.com/rcp.php?t=3#trajectories)."
     ]
    },
    {
     "cell_type": "code",
     "collapsed": false,
     "input": [
      "#Complete the following import statement, what was the library we needed???\n",
      "import pandas as pd\n",
      "import statistics as st\n",
      "\n",
      "histDataFile = '/home/remashma/glimmer/Data/PoweshiekTemperatureHistF.csv'\n",
      "predDataFile = '/home/remashma/glimmer/Data/PoweshiekTemperaturePredictionsF.csv'\n",
      "\n",
      "histData = pd.read_csv(histDataFile)\n",
      "predData = pd.read_csv(predDataFile)\n",
      "\n",
      "histdf = pd.DataFrame(histData) #Use this DataFrame to look at historical data.\n",
      "preddf = pd.DataFrame(predData)\n",
      "\n",
      "pred45df = preddf.iloc[:, :6]\n",
      "pred85df = preddf.iloc[:, [0, 6, 7, 8, 9, 10]]\n",
      "\n",
      "pred45df.columns = ['year', 'median', 'max', 'min', 'p10', 'p90']\n",
      "pred85df.columns = ['year', 'median', 'max', 'min', 'p10', 'p90']\n",
      "\n",
      "\n",
      "frames45 = [histdf, pred45df]\n",
      "df45 = pd.concat(frames45) #Use this dataset to look at historical data and prediction data based on the rcp45.\n",
      "\n",
      "frames85 = [histdf, pred85df]\n",
      "df85 = pd.concat(frames85) #Use this dataset to look at historical data and prediction data based on the rcp85."
     ],
     "language": "python",
     "metadata": {},
     "outputs": [],
     "prompt_number": 15
    },
    {
     "cell_type": "markdown",
     "metadata": {},
     "source": [
      "##Question 1: Make observations and analyze the plot of the historical data. Is temperature changing at a constant rate?\n",
      "Plot and analze the data (**from histdf**)."
     ]
    },
    {
     "cell_type": "code",
     "collapsed": false,
     "input": [
      "#What statement must be included to visualized data?\n",
      "\n",
      "#Put the code for the plot below.\n"
     ],
     "language": "python",
     "metadata": {},
     "outputs": [],
     "prompt_number": 18
    },
    {
     "cell_type": "markdown",
     "metadata": {},
     "source": [
      "###Analysis Questions:\n",
      "**What are some possible explanations for how the data looks?** \n",
      "ANSWER HERE\n",
      "\n",
      "**What data is missing from the dataset?**ANSWER HERE\n",
      "\n",
      "**What other pieces of data would be interesting to know?** ANSWER HERE\n",
      "\n"
     ]
    },
    {
     "cell_type": "markdown",
     "metadata": {},
     "source": [
      "## Question 3: Develop a question about the Poweshiek county temperature prediction data (found in df45 and df85) and then answer it by making a visualization.\n",
      "\n",
      "Ask a counselor if you want help thinking of a question.\n",
      "\n",
      "### **Question:** INSERT QUESTION HERE\n"
     ]
    },
    {
     "cell_type": "code",
     "collapsed": false,
     "input": [],
     "language": "python",
     "metadata": {},
     "outputs": []
    },
    {
     "cell_type": "markdown",
     "metadata": {},
     "source": [
      "## Extension: Use a visualization to determine which years had the least temperature change. What information about each year \n",
      "Visualize and analyze the data as it's shown in the graph.\n",
      "\n",
      "**Hint:** What information exists in the data for each year? Which pieces of data are relevant to the variablility or changes in temperature over the course of each year?\n"
     ]
    },
    {
     "cell_type": "code",
     "collapsed": false,
     "input": [],
     "language": "python",
     "metadata": {},
     "outputs": [],
     "prompt_number": 1
    },
    {
     "cell_type": "markdown",
     "metadata": {},
     "source": [
      "#### Challenge: No more estimation: write code that returns the year with the least change in temperature."
     ]
    },
    {
     "cell_type": "code",
     "collapsed": false,
     "input": [],
     "language": "python",
     "metadata": {},
     "outputs": []
    }
   ],
   "metadata": {}
  }
 ]
}