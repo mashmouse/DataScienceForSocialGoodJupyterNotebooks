{
 "cells": [
  {
   "cell_type": "code",
   "execution_count": null,
   "metadata": {
    "collapsed": true
   },
   "outputs": [],
   "source": [
    "# Average attendance(att) for each district from 2010-11\n",
    "attAvg = [91.18,89.01,89.28,91.13,89.08,91.34,86.75,87.15,89.27,88.92,89.84,87.33,89.56,89.41,91.27,85.55,89.67,89.83,87.81,92.77,90.50,92.57,86.98,92.21,91.90,93.34,89.88,91.70,92.14,92.79,90.98,89.28,83.21,63.81]\n",
    "\n",
    "# Enrollment(enroll) for each district from 2010-11\n",
    "enrollAvg = [12367,60823,21962,14252,13170,25733,19717,31625,34518,56757,38230,23118,22785,20181,26786,10196,26551,18641,25632,44214,34342,36352,11833,52936,34371,31988,46007,37009,27232,39742,59373,15297,21435,7288,1002463]\n"
   ]
  },
  {
   "cell_type": "markdown",
   "metadata": {},
   "source": [
    " To Do:\n",
    "    - import statistics package\n",
    "    - find the following and give them good variable names:\n",
    "        * smallest value in each list\n",
    "        * largest value in each list\n",
    "        * mean of each list\n",
    "        * median of each list\n",
    "        * mode of each list\n",
    "    - print all of the values you found in informative statements (EXAMPLE: \"lowest attendance was 0%\")\n",
    " Slideshow:\n",
    "    https://docs.google.com/presentation/d/1LTcu-LkjEQUheyRF1-Por6mML9WlwaMh8SyxoOHo1b8/edit#slide=id.g23d77d6d03_0_1130"
   ]
  },
  {
   "cell_type": "code",
   "execution_count": null,
   "metadata": {
    "collapsed": true
   },
   "outputs": [],
   "source": [
    "# Type here\n",
    "\n"
   ]
  }
 ],
 "metadata": {
  "kernelspec": {
   "display_name": "Python 3",
   "language": "python",
   "name": "python3"
  },
  "language_info": {
   "codemirror_mode": {
    "name": "ipython",
    "version": 3
   },
   "file_extension": ".py",
   "mimetype": "text/x-python",
   "name": "python",
   "nbconvert_exporter": "python",
   "pygments_lexer": "ipython3",
   "version": "3.6.1"
  }
 },
 "nbformat": 4,
 "nbformat_minor": 2
}
