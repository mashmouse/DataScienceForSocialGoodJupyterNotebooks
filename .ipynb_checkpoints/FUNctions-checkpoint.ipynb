{
 "metadata": {
  "name": "",
  "signature": "sha256:75d4a0a85afb962331d66f9c8bbf3c56e9af4e55cb9360b303231ecfd7073282"
 },
 "nbformat": 3,
 "nbformat_minor": 0,
 "worksheets": []
}