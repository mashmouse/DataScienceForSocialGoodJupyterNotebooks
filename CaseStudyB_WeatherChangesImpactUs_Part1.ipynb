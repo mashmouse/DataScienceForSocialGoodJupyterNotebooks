{
 "metadata": {
  "name": "",
  "signature": "sha256:9660993512ac1b8555d719a07de48f939b9c862ca74edaaf3bfad9548a0c62a6"
 },
 "nbformat": 3,
 "nbformat_minor": 0,
 "worksheets": [
  {
   "cells": [
    {
     "cell_type": "markdown",
     "metadata": {},
     "source": [
      "#Case Study B: Weather Changes Impact Us (Part 1)\n",
      "Applying concepts from the [Presentation](https://docs.google.com/presentation/d/13BJzBOscWzpF2Gsv3lw5OE72xuumlZ8crFWQFPSMi1g/edit?usp=sharing).\n",
      "Pay attention to the blue comments in the code. They provide useful factoids and instructions."
     ]
    },
    {
     "cell_type": "markdown",
     "metadata": {},
     "source": [
      "###Jupyter tips:\n",
      "Command Mode (press Esc or click whitespace to enable)\n",
      "\n",
      "+ Enter : edit mode\n",
      "+ Shift-Enter : run cell, select below\n",
      "+ Ctrl-Enter : run cell\n",
      "+ Alt-Enter : run cell, insert below\n",
      "\n",
      "**For more keyboard shortcuts click 'Help'->'Keyboard Shortcuts' from the toolbar**"
     ]
    },
    {
     "cell_type": "markdown",
     "metadata": {},
     "source": [
      "## Case Study Focus: Powesheik Weather Data\n",
      "Analyze the data from the given file using a DataFrame.\n",
      "\n",
      "The temperature_historical.cvs file contains the median, max, and min temperatures per year in Celcius for Powesheik County, IA from 1950 to 2005."
     ]
    },
    {
     "cell_type": "code",
     "collapsed": false,
     "input": [
      "#Complete the following import statement, what was the library we needed???\n",
      "import ______ as ___\n",
      "\n",
      "histDataFile = '/home/remashma/glimmer/Data/PoweshiekTemperatureHistF.csv'\n",
      "\n",
      "#Read data from histDataFile into a variable named data.\n",
      "\n",
      "#Create a DataFrame called df.\n",
      "\n",
      "#Print df.\n"
     ],
     "language": "python",
     "metadata": {},
     "outputs": [],
     "prompt_number": 1
    },
    {
     "cell_type": "markdown",
     "metadata": {},
     "source": [
      "###Making Sense of the Data:\n",
      "Write a sentence or two to answer the following questions.\n",
      "\n",
      "**Why is there already a median column label?**\n",
      "\n",
      "**What does P10 and P90 mean? How does knowing P10 and P90 data for each year add to this data?**\n"
     ]
    },
    {
     "cell_type": "markdown",
     "metadata": {},
     "source": [
      "###Computations:\n",
      "Code the following computations using MMMMM(Maximum, Minimum, Mean, Median, and Mode)."
     ]
    },
    {
     "cell_type": "code",
     "collapsed": false,
     "input": [
      "#Print out the median of the 'median' column.\n",
      "\n",
      "#Find out which year the meidan that was just caluculated is from by looking at the data.\n",
      "#Challenge: do this with code!\n",
      "\n",
      "#Partner Discussion: What does the year of the meidan value present about the data?\n",
      "\n",
      "#Print out the median of the 'median' column.\n",
      "\n",
      "#Partner Discussion: How do the mean and the median of the 'median' column relate to eachother?\n",
      "\n",
      "#Print out the max of the 'max' column.\n",
      "\n",
      "#Print out the min of the 'min' column.\n"
     ],
     "language": "python",
     "metadata": {},
     "outputs": [],
     "prompt_number": 1
    },
    {
     "cell_type": "markdown",
     "metadata": {},
     "source": [
      "### Review: \n",
      "**Write 3+ sentences to summarize the analysis of the data.**\n",
      "ANSWER_HERE"
     ]
    },
    {
     "cell_type": "markdown",
     "metadata": {},
     "source": [
      "## Extension: Practice Writting Markdown\n",
      "Use the [Markdown Cheat Sheet](https://docs.google.com/drawings/d/1hwL0tBDFBWJBF3Sf3jIf0gMtqzGPAAhbZMbuXHA0R1s/edit?usp=sharing) in to complete **at least 3** of the tasks in the cell below."
     ]
    },
    {
     "cell_type": "markdown",
     "metadata": {},
     "source": [
      "##### List Example: make an ordered(numbered) list of 3 books you and your partner both enjoy\n",
      "\n",
      "##### Header Example: make any sized header where the text is the best disney movie\n",
      "\n",
      "##### Text Emphasis Examples: italicize one amazing icecream flavor \n",
      "\n",
      "##### Table OR Link Example: whatever you want\n"
     ]
    },
    {
     "cell_type": "markdown",
     "metadata": {},
     "source": [
      "##Extension: Create and Analyze Data for Social Good Campers\n",
      "Use the data below to make a DataFrame and then analyze that data.\n",
      "\n",
      "###Setup:\n",
      "This data was gathered as a part of registration for the Data Science for Social Good summer camp."
     ]
    },
    {
     "cell_type": "code",
     "collapsed": false,
     "input": [
      "#Data is acurate as of 7/20/2017.\n",
      "colNames = ['Ames', 'Brooklyn', 'Germany','Grinnell', 'Marshalltown', 'Montezuma', 'Newton', 'Toledo', 'Waukee','Unspecified']\n",
      "indNames = ['Total', 'Boys', 'Girls', 'Unspecified']\n",
      "campData = [[1, 4, 1, 18, 5, 3, 2, 1, 1, 3], \n",
      "[1, 1, 0, 10, 3, 3, 2, 1, 0, 0],\n",
      "[0, 3, 0, 5, 2, 0, 0, 0, 1, 0],\n",
      "[0, 0, 1, 3, 0, 0, 0, 0, 0, 3]]\n",
      "\n",
      "#Create a DataFrame using campData\n",
      "df = ________\n",
      "\n",
      "#Print df.\n",
      "\n",
      "\n",
      "#To make the data understandable, label the axis. \n",
      "#Set df.columns to colNames and df.index (the rows) to indNames.\n",
      "df.columns = ______\n",
      "df.index = ______\n",
      "\n",
      "#Remove or comment out the previous print statement. Print df.\n"
     ],
     "language": "python",
     "metadata": {},
     "outputs": []
    },
    {
     "cell_type": "markdown",
     "metadata": {},
     "source": [
      "###Making Sense of the Data:\n",
      "Write a sentence or two to answer the following questions.\n",
      "\n",
      "**What reasons might cause there to be 'Unspecified' data?**\n",
      "ANSWER_HERE\n",
      "\n",
      "**What other information might provide some interesting analysis?**\n",
      "ANSWER_HERE\n"
     ]
    },
    {
     "cell_type": "markdown",
     "metadata": {},
     "source": [
      "###Computations:\n",
      "Code the following computations using MMMMM(Maximum, Minimum, Mean, Median, and Mode)."
     ]
    },
    {
     "cell_type": "code",
     "collapsed": false,
     "input": [
      "#Print out the largest number of students attending the camp. Are you assuming the answer\n",
      "\n",
      "#Print out the median of the students attending camp from Grinnell.\n",
      "\n",
      "#Print out the mean of the students attending camp from Grinnell.\n",
      "\n",
      "#Partner Discussion: Are there differences between the mean and median? What could they be communicating about the data?\n",
      "\n",
      "#Print out the mode of the number of girls in the camp.\n",
      "\n",
      "#Partner Discussion: What is the significance of the mode calculated above?\n",
      "\n",
      "#Print out the mean of the number of girls in the camp.\n",
      "\n",
      "#Print out the mean of the number of boys in the camp.\n",
      "\n",
      "#Partner Discussion: What data might the camp want to advertise and why? \n",
      "#Note: It could be something we calculated above or something that we didn't ask you to calculate here"
     ],
     "language": "python",
     "metadata": {},
     "outputs": [],
     "prompt_number": 29
    },
    {
     "cell_type": "markdown",
     "metadata": {},
     "source": [
      "### Review: \n",
      "**Write 3 sentences about the most interesting parts of discussions.**\n",
      "ANSWER_HERE"
     ]
    }
   ],
   "metadata": {}
  }
 ]
}