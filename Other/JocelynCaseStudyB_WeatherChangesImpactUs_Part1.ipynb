{
 "metadata": {
  "name": "",
  "signature": "sha256:7b467d47c39c5e6cf1ddbb5940f61d4027aa81e8677f17edad6a14d43559d8e7"
 },
 "nbformat": 3,
 "nbformat_minor": 0,
 "worksheets": [
  {
   "cells": [
    {
     "cell_type": "code",
     "collapsed": false,
     "input": [
      "#Case Study B: Weather Changes Impact Us (Part 1)\n",
      "Applying concepts from the [Presentation](https://docs.google.com/presentation/d/13BJzBOscWzpF2Gsv3lw5OE72xuumlZ8crFWQFPSMi1g/edit?usp=sharing)."
     ],
     "language": "python",
     "metadata": {},
     "outputs": []
    },
    {
     "cell_type": "markdown",
     "metadata": {},
     "source": [
      "###Jupyter tips:\n",
      "Command Mode (press Esc or click whitespace to enable)\n",
      "\n",
      "+ Enter : edit mode\n",
      "+ Shift-Enter : run cell, select below\n",
      "+ Ctrl-Enter : run cell\n",
      "+ Alt-Enter : run cell, insert below\n",
      "\n",
      "**For more keyboard shortcuts click 'Help'->'Keyboard Shortcuts' from the toolbar**\n"
     ]
    },
    {
     "cell_type": "markdown",
     "metadata": {},
     "source": [
      "## Warmp-up: Write some Markdown\n",
      "Give one qucik example of each of the items on the [Markdown Cheat Sheet](https://docs.google.com/drawings/d/1hwL0tBDFBWJBF3Sf3jIf0gMtqzGPAAhbZMbuXHA0R1s/edit?usp=sharing) in the cell below."
     ]
    },
    {
     "cell_type": "markdown",
     "metadata": {},
     "source": [
      "##### List Example:\n",
      "* freddy\n",
      "* debby\n",
      "* beddy \n",
      "\n",
      "##### Header Example:\n",
      "###### Jocelyn\n",
      "\n",
      "##### Text Emphasis Example:\n",
      "**cat** \n",
      "\n",
      "##### Table Example:\n",
      "art | reading | writing\n",
      "--- | --- | ---\n",
      "27 | 29 | 29\n",
      "25 | 29 | 28\n",
      "\n",
      "##### Link Example:"
     ]
    },
    {
     "cell_type": "markdown",
     "metadata": {},
     "source": [
      "##Warmup: Create a DataFrame from scratch\n",
      "Use the data below to make a DataFrame and then analyze that data.\n",
      "\n",
      "###Setup:\n",
      "This data was gathered as a part of registration for the Data Science for Social Good summer camp."
     ]
    },
    {
     "cell_type": "code",
     "collapsed": false,
     "input": [
      "#complete the following import statement, what was the library we needed???\n",
      "import pandas as da\n",
      "\n",
      "column_names = ['Ames', 'Brooklyn', 'Germany','Grinnell', 'Marshalltown', 'Montezuma', 'Newton', 'Toledo', 'Waukee','Unspecified']\n",
      "index_names = ['Total', 'Boys', 'Girls', 'Unspecified']\n",
      "camp_data = [[1, 4, 1, 18, 5, 3, 2, 1, 1, 2], \n",
      "[1, 1, 0, 10, 3, 3, 2, 1, 0, 0],\n",
      "[0, 3, 0, 5, 2, 0, 0, 0, 1, 0],\n",
      "[0, 0, 1, 3, 0, 0, 0, 0, 0, 2]]\n",
      "\n",
      "#Create a DataFrame and set df.columns to column_names and index (the rows) to index_names.\n",
      "dafr = da.DataFrame(camp_data)\n",
      "dafr.columns = column_names\n",
      "dafr.index = index_names\n",
      "\n",
      "#Print/output the Data Frame.\n",
      "print(dafr)"
     ],
     "language": "python",
     "metadata": {},
     "outputs": [
      {
       "output_type": "stream",
       "stream": "stdout",
       "text": [
        "             Ames  Brooklyn  Germany  Grinnell  Marshalltown  Montezuma  \\\n",
        "Total           1         4        1        18             5          3   \n",
        "Boys            1         1        0        10             3          3   \n",
        "Girls           0         3        0         5             2          0   \n",
        "Unspecified     0         0        1         3             0          0   \n",
        "\n",
        "             Newton  Toledo  Waukee  Unspecified  \n",
        "Total             2       1       1            2  \n",
        "Boys              2       1       0            0  \n",
        "Girls             0       0       1            0  \n",
        "Unspecified       0       0       0            2  \n"
       ]
      }
     ],
     "prompt_number": 1
    },
    {
     "cell_type": "markdown",
     "metadata": {},
     "source": [
      "###Questions:\n",
      "Write a sentence or two to answer the following questions.\n",
      "\n",
      "**What reasons might cause there to be 'Unspecified' data?**\n",
      "ANSWER_HERE\n",
      "\n",
      "**What other data might be useful for analysis?**\n",
      "ANSWER_HERE\n",
      "\n",
      "**What do you first notice about the data from the table?**\n",
      "ANSWER_HERE"
     ]
    },
    {
     "cell_type": "markdown",
     "metadata": {},
     "source": [
      "###Computations:\n",
      "Code the following computations with MMMMM(Maximum, Minimum, Mean, Median, and Mode). While it might not seem like you need to use the code to perform some of these tasks now, realize that we will be working with larger datasets and do it anyway."
     ]
    },
    {
     "cell_type": "code",
     "collapsed": false,
     "input": [
      "#Print out the largest number of students attending the camp. Are you assuming the answer\n",
      "\n",
      "#Print out the median of the students attending camp from Grinnell.\n",
      "\n",
      "#Print out the mean of the students attending camp from Grinnell.\n",
      "\n",
      "#Talk with your partner: Are there differences between the mean and median? What could they be communicating about the data?\n",
      "\n",
      "#Print out the mode of the number of girls in the camp.\n",
      "\n",
      "#Talk with your partner: What is the significance of the mode calculated above?\n",
      "\n",
      "#Print out the mean of the number of girls in the camp.\n",
      "\n",
      "#Print out the mean of the number of boys in the camp.\n",
      "\n",
      "#Talk with your partner: What data might the camp want to advertise and why? \n",
      "#Note: It could be something we calculated above or something that we didn't ask you to calculate here"
     ],
     "language": "python",
     "metadata": {},
     "outputs": [],
     "prompt_number": 29
    },
    {
     "cell_type": "markdown",
     "metadata": {},
     "source": [
      "### Questions/Notes: \n",
      "**Write 3 sentences about the most interesting parts of your discussions.**\n",
      "ANSWER_HERE"
     ]
    },
    {
     "cell_type": "markdown",
     "metadata": {},
     "source": [
      "## Case Study Focus: Powesheik Weather Data\n",
      "Analyze the data from the given file using a DataFrame."
     ]
    },
    {
     "cell_type": "code",
     "collapsed": false,
     "input": [
      "historical_file = \"/home/remashma/glimmer/Data/temperature_historical.csv\"\n",
      "\n",
      "#read data from the historical file.\n",
      "pow = da.read_csv(historical_file)\n",
      "\n",
      "#Create a DataFrame\n",
      "pdafr = da.DataFrame(pow)\n",
      "\n",
      "#Print/Output the Data Frame\n",
      "print(pdafr)"
     ],
     "language": "python",
     "metadata": {},
     "outputs": [
      {
       "output_type": "stream",
       "stream": "stdout",
       "text": [
        "    year  median     min     max     p10     p90\n",
        "0   1950  15.273  14.037  16.764  14.257  16.067\n",
        "1   1951  15.655  13.696  17.197  13.762  16.870\n",
        "2   1952  15.033  13.075  17.252  14.096  16.988\n",
        "3   1953  15.084  13.809  16.313  14.086  16.191\n",
        "4   1954  14.773  12.753  17.424  13.879  15.396\n",
        "5   1955  14.581  12.627  16.370  13.747  15.870\n",
        "6   1956  15.255  13.082  16.371  13.788  15.941\n",
        "7   1957  15.228  12.814  16.301  13.899  16.194\n",
        "8   1958  15.234  12.785  16.172  13.091  16.040\n",
        "9   1959  14.439  13.063  17.024  14.048  15.787\n",
        "10  1960  15.017  12.638  17.918  13.795  16.958\n",
        "11  1961  14.969  13.348  17.269  13.803  16.733\n",
        "12  1962  14.879  13.587  16.998  13.907  15.595\n",
        "13  1963  14.498  11.509  16.064  13.680  15.920\n",
        "14  1964  14.206  11.481  16.791  13.006  15.337\n",
        "15  1965  14.344  12.791  16.408  13.012  15.577\n",
        "16  1966  14.709  13.177  16.601  13.852  15.725\n",
        "17  1967  15.234  13.540  16.499  13.953  16.194\n",
        "18  1968  14.270  12.699  16.331  13.430  15.656\n",
        "19  1969  14.518  12.438  16.768  13.356  15.691\n",
        "20  1970  14.547  13.314  16.667  13.457  15.953\n",
        "21  1971  14.580  12.697  16.389  13.405  16.018\n",
        "22  1972  14.976  12.867  16.389  14.175  16.184\n",
        "23  1973  15.276  14.015  16.961  14.222  16.596\n",
        "24  1974  14.757  13.112  16.353  14.054  15.756\n",
        "25  1975  14.620  13.164  16.766  13.765  15.732\n",
        "26  1976  14.281  12.974  16.513  13.215  15.107\n",
        "27  1977  14.818  13.431  16.253  13.862  16.160\n",
        "28  1978  15.075  13.053  16.192  14.384  15.950\n",
        "29  1979  15.589  13.030  16.883  14.375  16.739\n",
        "30  1980  15.223  13.931  16.974  14.182  16.183\n",
        "31  1981  15.898  13.252  17.178  14.491  16.612\n",
        "32  1982  14.862  13.060  17.119  13.608  16.206\n",
        "33  1983  14.396  12.661  15.471  13.648  15.272\n",
        "34  1984  14.899  13.782  16.989  13.946  16.349\n",
        "35  1985  14.555  13.415  17.311  13.799  16.269\n",
        "36  1986  15.292  14.126  16.888  14.506  16.485\n",
        "37  1987  15.117  13.257  16.321  14.103  15.994\n",
        "38  1988  14.795  12.413  15.905  14.395  15.792\n",
        "39  1989  15.420  13.680  16.922  14.238  16.239\n",
        "40  1990  14.807  13.137  15.948  13.768  15.894\n",
        "41  1991  15.770  14.631  17.399  14.981  16.696\n",
        "42  1992  14.208  12.429  16.483  13.457  15.922\n",
        "43  1993  14.983  13.346  17.447  13.797  16.465\n",
        "44  1994  15.785  13.693  16.856  14.877  16.450\n",
        "45  1995  15.333  14.126  18.587  14.535  16.810\n",
        "46  1996  15.576  14.122  17.827  14.579  17.321\n",
        "47  1997  15.541  13.805  17.838  14.236  16.878\n",
        "48  1998  15.921  14.067  17.332  14.485  16.997\n",
        "49  1999  15.740  14.380  16.776  14.783  16.660\n",
        "50  2000  15.854  14.733  17.781  15.057  17.330\n",
        "51  2001  15.222  13.607  17.175  14.237  16.600\n",
        "52  2002  15.940  13.238  17.880  14.792  17.818\n",
        "53  2003  16.026  14.840  17.996  15.085  17.413\n",
        "54  2004  15.399  12.690  18.592  14.869  17.262\n",
        "55  2005  15.940  14.122  17.887  14.461  17.123\n"
       ]
      }
     ],
     "prompt_number": 5
    },
    {
     "cell_type": "code",
     "collapsed": false,
     "input": [
      "print(pdafr['median'].mode())\n",
      "print(pdafr['median'].mean())\n",
      "print(pdafr['median'].median())"
     ],
     "language": "python",
     "metadata": {},
     "outputs": [
      {
       "output_type": "stream",
       "stream": "stdout",
       "text": [
        "0    15.234\n",
        "1    15.940\n",
        "dtype: float64\n",
        "15.0753571429\n",
        "15.054"
       ]
      },
      {
       "output_type": "stream",
       "stream": "stdout",
       "text": [
        "\n"
       ]
      }
     ],
     "prompt_number": 8
    },
    {
     "cell_type": "markdown",
     "metadata": {},
     "source": [
      "##Making Sense of the Data Questions:\n",
      "\n",
      "What is a quartile? How does knowing the 10th and 90th quartile in this data set add to the data?\n",
      "\n",
      "Convert several of the \n"
     ]
    }
   ],
   "metadata": {}
  }
 ]
}